{
 "cells": [
  {
   "cell_type": "markdown",
   "metadata": {},
   "source": [
    "# Data Preparation and Processing"
   ]
  },
  {
   "cell_type": "code",
   "execution_count": 2,
   "metadata": {},
   "outputs": [],
   "source": [
    "import numpy as np\n",
    "from random import randint\n",
    "from sklearn.utils import shuffle\n",
    "from sklearn.preprocessing import MinMaxScaler"
   ]
  },
  {
   "cell_type": "code",
   "execution_count": 3,
   "metadata": {},
   "outputs": [],
   "source": [
    "train_labels = []\n",
    "train_samples = []"
   ]
  },
  {
   "cell_type": "raw",
   "metadata": {},
   "source": [
    "Example data:\n",
    "\n",
    "- An experimental drug was tested on individuals from ages 13 to 100 in a clinical trial\n",
    "- The trial had 2100 participants. Half were under 65 years od, half were 65 years or older.\n",
    "- Around 95% of patients 65 or older experienced side effects.\n",
    "- Around 95% of patients under 65 experienced no side effects."
   ]
  },
  {
   "cell_type": "code",
   "execution_count": 5,
   "metadata": {},
   "outputs": [],
   "source": [
    "for i in range(50):\n",
    "    # The ~5% of younger individuals who did experience side effects\n",
    "    random_younger = randint(13,64)\n",
    "    train_samples.append(random_younger)\n",
    "    train_labels.append(1)\n",
    "    \n",
    "    # The ~5% of older individuals who did not experience side effects\n",
    "    random_older=randint(65,100)\n",
    "    train_samples.append(random_older)\n",
    "    train_labels.append(0)\n",
    "    \n",
    "for i in range(1000):\n",
    "    # The ~95% of younger individuals who did not experience side effects\n",
    "    random_younger=randint(13,64)\n",
    "    train_samples.append(random_younger)\n",
    "    train_labels.append(0)    \n",
    "    \n",
    "    # The ~95% of older individuals who did experience side effects\n",
    "    random_older=randint(65,100)\n",
    "    train_samples.append(random_older)\n",
    "    train_labels.append(1)"
   ]
  },
  {
   "cell_type": "code",
   "execution_count": 10,
   "metadata": {},
   "outputs": [
    {
     "name": "stdout",
     "output_type": "stream",
     "text": [
      "[23, 82, 20, 83, 27, 85, 44, 96, 44, 74, 55, 92, 18, 76, 27, 67, 21, 97, 25, 85, 33, 98, 41, 98, 52, 78, 44, 97, 31, 70, 47, 74, 24, 67, 30, 76, 56, 95, 52, 73, 60, 85, 58, 81, 34, 72, 45, 77, 26, 70, 17, 82, 19, 79, 37, 74, 48, 65, 41, 91, 45, 75, 32, 83, 44, 81, 43, 65, 54, 98, 20, 89, 17, 78, 50, 98, 26, 99, 14, 95, 51, 99, 47, 83, 15, 66, 46, 96, 54, 82, 26, 76, 42, 87, 56, 73, 50, 83, 17, 81, 24, 79, 37, 89, 24, 98, 23, 94, 42, 71, 28, 80, 52, 91, 42, 100, 39, 75, 45, 87, 53, 88, 63, 90, 61, 92, 22, 68, 49, 95, 31, 84, 63, 93, 21, 73, 62, 86, 17, 97, 58, 83, 47, 81, 22, 86, 24, 74, 36, 76, 20, 69, 30, 65, 49, 76, 59, 70, 24, 80, 64, 88, 41, 92, 23, 79, 55, 81, 39, 83, 45, 72, 55, 74, 58, 98, 49, 93, 28, 65, 49, 75, 19, 89, 31, 96, 36, 94, 14, 95, 48, 84, 54, 93, 60, 87, 30, 79, 39, 89, 32, 69, 25, 75, 31, 89, 37, 82, 64, 81, 52, 83, 50, 78, 54, 84, 17, 71, 15, 80, 64, 100, 34, 90, 34, 80, 29, 98, 62, 93, 64, 88, 44, 66, 27, 74, 37, 90, 63, 86, 63, 74, 16, 83, 62, 73, 30, 85, 20, 69, 16, 79, 35, 89, 52, 92, 28, 81, 54, 81, 53, 96, 34, 67, 53, 87, 57, 91, 21, 84, 38, 82, 37, 72, 28, 89, 52, 77, 29, 85, 34, 80, 32, 100, 54, 85, 13, 69, 18, 88, 30, 99, 24, 84, 25, 84, 53, 81, 58, 76, 25, 80, 44, 68, 57, 89, 26, 85, 58, 78, 16, 87, 48, 78, 51, 99, 27, 77, 49, 83, 46, 91, 13, 98, 44, 68, 31, 65, 41, 68, 59, 87, 21, 99, 17, 92, 44, 82, 54, 99, 34, 85, 39, 80, 30, 69, 53, 89, 20, 79, 53, 77, 57, 100, 63, 93, 27, 65, 42, 69, 56, 80, 62, 95, 28, 77, 16, 75, 17, 79, 49, 96, 36, 87, 13, 72, 52, 81, 45, 100, 48, 93, 37, 99, 21, 71, 47, 99, 54, 77, 23, 99, 15, 66, 28, 95, 36, 90, 32, 100, 19, 99, 18, 81, 57, 69, 46, 99, 57, 98, 25, 76, 43, 65, 62, 70, 61, 93, 42, 88, 18, 69, 31, 87, 21, 82, 61, 77, 22, 68, 42, 83, 18, 94, 54, 82, 33, 79, 20, 97, 58, 83, 23, 93, 23, 73, 32, 88, 17, 87, 64, 90, 53, 88, 29, 99, 57, 91, 61, 99, 34, 94, 34, 72, 47, 79, 33, 73, 36, 67, 16, 86, 45, 87, 42, 65, 62, 85, 64, 84, 60, 92, 41, 100, 55, 81, 41, 94, 25, 73, 53, 86, 62, 92, 56, 82, 53, 88, 63, 93, 43, 93, 31, 94, 13, 84, 14, 80, 24, 96, 49, 84, 16, 77, 57, 99, 30, 79, 28, 72, 50, 97, 44, 67, 24, 85, 53, 72, 21, 73, 53, 68, 20, 92, 16, 74, 16, 94, 24, 67, 30, 89, 14, 75, 15, 94, 28, 65, 31, 73, 42, 68, 34, 71, 24, 100, 36, 96, 61, 70, 55, 74, 23, 89, 31, 76, 28, 94, 57, 100, 23, 84, 49, 96, 59, 75, 55, 75, 25, 65, 20, 95, 18, 78, 43, 78, 29, 67, 13, 73, 50, 67, 49, 87, 49, 75, 61, 65, 15, 74, 47, 66, 46, 88, 46, 65, 59, 99, 46, 77, 36, 67, 17, 75, 23, 81, 19, 88, 58, 96, 35, 96, 53, 72, 18, 66, 16, 81, 48, 70, 37, 86, 20, 77, 30, 71, 15, 99, 20, 85, 56, 89, 24, 66, 64, 91, 28, 87, 27, 84, 64, 69, 46, 97, 58, 66, 33, 78, 50, 77, 21, 76, 45, 84, 22, 68, 56, 67, 15, 80, 37, 98, 60, 89, 50, 96, 64, 76, 55, 87, 17, 78, 44, 72, 13, 76, 29, 65, 64, 98, 57, 69, 17, 71, 49, 83, 34, 72, 33, 98, 16, 95, 29, 71, 64, 100, 29, 98, 23, 99, 53, 99, 34, 90, 19, 92, 28, 82, 38, 78, 41, 86, 34, 94, 49, 67, 53, 98, 37, 99, 27, 84, 35, 77, 18, 72, 55, 100, 17, 100, 63, 67, 33, 93, 62, 99, 23, 92, 50, 67, 15, 69, 49, 98, 38, 66, 49, 67, 49, 80, 55, 71, 38, 88, 53, 100, 47, 86, 51, 99, 19, 74, 37, 100, 26, 82, 18, 82, 36, 81, 18, 82, 37, 76, 13, 96, 52, 67, 51, 89, 54, 68, 63, 84, 56, 96, 34, 82, 16, 86, 51, 97, 28, 90, 30, 74, 42, 68, 54, 96, 47, 93, 39, 90, 45, 76, 41, 100, 40, 72, 63, 65, 64, 70, 38, 66, 59, 82, 28, 89, 50, 92, 35, 92, 43, 66, 45, 88, 59, 70, 44, 97, 18, 75, 59, 96, 39, 89, 25, 89, 15, 72, 32, 87, 41, 74, 27, 71, 15, 98, 54, 96, 59, 67, 37, 93, 14, 92, 56, 75, 54, 77, 20, 98, 33, 85, 42, 78, 53, 78, 21, 81, 62, 88, 44, 79, 63, 83, 15, 85, 57, 86, 64, 68, 22, 93, 24, 73, 34, 76, 16, 66, 45, 74, 42, 97, 15, 66, 29, 69, 37, 85, 47, 82, 49, 100, 19, 87, 62, 95, 53, 76, 14, 95, 44, 66, 31, 92, 60, 92, 41, 84, 45, 66, 28, 95, 17, 70, 35, 98, 36, 73, 13, 84, 47, 81, 14, 87, 14, 89, 26, 74, 29, 83, 24, 72, 27, 71, 61, 90, 20, 95, 37, 96, 47, 70, 19, 66, 55, 99, 57, 79, 58, 79, 30, 72, 28, 65, 27, 90, 13, 76, 59, 100, 19, 69, 49, 82, 42, 70, 53, 84, 34, 94, 44, 82, 55, 73, 41, 80, 60, 82, 33, 98, 16, 82, 21, 91, 50, 86, 26, 70, 18, 65, 49, 78, 40, 76, 64, 71, 25, 93, 53, 72, 64, 99, 64, 78, 21, 87, 14, 71, 57, 87, 46, 69, 24, 88, 55, 67, 49, 67, 61, 95, 52, 65, 38, 93, 18, 95, 19, 77, 42, 82, 26, 69, 20, 68, 41, 72, 39, 89, 61, 85, 31, 94, 30, 67, 42, 94, 44, 96, 18, 65, 15, 78, 15, 75, 56, 66, 59, 92, 17, 87, 25, 68, 20, 98, 35, 99, 18, 76, 31, 93, 55, 95, 39, 68, 21, 84, 25, 66, 23, 72, 52, 81, 57, 72, 33, 93, 29, 83, 64, 91, 35, 89, 38, 78, 22, 67, 27, 89, 48, 89, 47, 80, 15, 71, 36, 80, 16, 98, 63, 88, 60, 74, 63, 97, 63, 71, 33, 67, 54, 82, 36, 99, 52, 66, 29, 72, 34, 100, 21, 99, 16, 100, 61, 92, 17, 80, 30, 96, 36, 96, 21, 93, 56, 65, 37, 71, 31, 94, 41, 75, 62, 90, 17, 94, 48, 71, 52, 74, 26, 89, 51, 80, 18, 90, 57, 70, 52, 75, 37, 84, 63, 96, 48, 75, 48, 72, 53, 75, 19, 85, 27, 85, 32, 69, 18, 94, 52, 65, 22, 65, 54, 74, 49, 68, 49, 86, 34, 89, 56, 70, 32, 71, 58, 81, 19, 98, 46, 93, 17, 88, 64, 85, 40, 99, 34, 85, 47, 70, 53, 76, 54, 86, 38, 92, 61, 90, 41, 89, 18, 70, 35, 94, 54, 87, 61, 78, 46, 86, 25, 71, 15, 84, 49, 85, 16, 83, 22, 84, 26, 99, 14, 92, 48, 79, 27, 76, 20, 66, 30, 98, 43, 71, 26, 85, 15, 100, 26, 97, 19, 90, 17, 85, 47, 69, 63, 94, 39, 80, 24, 99, 14, 76, 52, 93, 17, 93, 55, 89, 55, 90, 53, 71, 32, 79, 55, 91, 37, 81, 60, 76, 64, 88, 39, 72, 58, 86, 42, 92, 17, 72, 29, 96, 34, 94, 52, 79, 52, 93, 56, 85, 13, 90, 44, 88, 38, 97, 42, 93, 16, 98, 15, 100, 29, 92, 60, 94, 45, 73, 50, 92, 38, 67, 23, 100, 19, 95, 31, 100, 23, 69, 24, 89, 44, 72, 22, 76, 16, 93, 36, 90, 20, 90, 17, 73, 43, 94, 44, 66, 50, 70, 26, 88, 18, 73, 47, 97, 35, 96, 60, 85, 36, 89, 38, 85, 37, 73, 23, 70, 13, 77, 46, 100, 47, 80, 19, 75, 18, 78, 54, 85, 20, 70, 63, 77, 50, 93, 16, 98, 42, 68, 23, 65, 20, 75, 47, 65, 20, 78, 46, 97, 62, 87, 45, 78, 58, 75, 34, 71, 37, 84, 37, 78, 47, 82, 13, 76, 52, 81, 39, 89, 59, 95, 34, 66, 51, 86, 21, 99, 21, 70, 28, 72, 21, 100, 49, 100, 33, 67, 47, 69, 35, 79, 47, 77, 22, 88, 43, 71, 32, 99, 15, 76, 15, 75, 18, 97, 45, 72, 39, 65, 48, 90, 50, 70, 31, 95, 41, 91, 32, 66, 51, 71, 14, 65, 18, 92, 32, 71, 18, 75, 31, 77, 14, 86, 46, 93, 22, 91, 36, 87, 55, 82, 33, 70, 20, 72, 31, 90, 63, 79, 14, 71, 14, 68, 18, 69, 45, 90, 34, 66, 35, 87, 36, 74, 21, 91, 19, 86, 23, 100, 52, 95, 40, 67, 19, 95, 63, 83, 62, 98, 23, 74, 36, 67, 23, 90, 51, 69, 45, 96, 25, 69, 20, 100, 29, 97, 48, 97, 33, 85, 40, 86, 34, 79, 32, 99, 50, 84, 25, 80, 44, 79, 45, 85, 63, 70, 38, 77, 41, 79, 55, 83, 41, 94, 29, 86, 26, 68, 49, 82, 62, 89, 38, 77, 15, 65, 28, 81, 22, 79, 52, 86, 47, 100, 47, 67, 49, 98, 53, 77, 64, 80, 50, 94, 33, 77, 40, 70, 34, 88, 34, 66, 41, 85, 41, 90, 37, 91, 63, 94, 27, 88, 57, 95, 49, 70, 35, 86, 45, 95, 19, 69, 26, 74, 63, 96, 51, 79, 22, 93, 50, 82, 42, 97, 64, 69, 14, 69, 55, 66, 45, 72, 54, 100, 14, 67, 27, 71, 21, 66, 19, 77, 42, 70, 21, 77, 42, 66, 58, 87, 45, 92, 16, 86, 13, 91, 32, 69, 15, 90, 22, 97, 56, 83, 31, 93, 61, 72, 54, 92, 50, 79, 51, 84, 55, 95, 62, 95, 23, 90, 25, 83, 41, 66, 36, 92, 23, 77, 13, 76, 22, 94, 28, 97, 52, 80, 57, 84, 33, 84, 18, 81, 44, 67, 23, 88, 38, 69, 34, 100, 37, 100, 43, 80, 31, 97, 43, 65, 57, 86, 52, 98, 31, 79, 27, 78, 29, 87, 53, 90, 28, 80, 52, 69, 30, 85, 56, 86, 36, 93, 26, 94, 26, 81, 21, 73, 38, 79, 54, 78, 51, 76, 57, 70, 43, 71, 17, 68, 60, 65, 19, 98, 54, 65, 64, 72, 46, 98, 49, 86, 23, 100, 42, 79, 48, 88, 33, 100, 14, 87, 54, 99, 16, 75, 43, 76, 25, 79, 18, 85, 63, 86, 14, 73, 24, 77, 49, 75, 56, 99, 39, 79, 16, 71, 18, 97, 37, 92, 47, 66, 16, 83, 13, 87, 43, 71, 23, 99, 35, 71, 48, 72, 40, 98, 25, 81, 29, 91, 59, 68, 13, 99, 14, 68, 51, 85, 42, 88, 33, 65, 22, 70, 58, 92, 47, 100, 48, 89, 58, 89, 14, 89, 21, 90, 49, 81, 41, 90, 34, 97, 43, 92, 15, 100, 58, 91, 34, 75, 16, 83, 22, 73, 30, 70, 55, 71, 48, 96, 63, 89, 56, 82, 25, 67, 54, 84, 35, 97, 47, 95, 64, 85, 45, 69, 57, 89, 46, 95, 30, 68, 17, 85, 54, 76, 62, 87, 50, 90, 48, 66, 18, 81, 44, 94, 64, 77, 16, 79, 41, 88, 25, 81, 54, 98, 23, 99, 18, 84, 45, 77, 19, 94, 13, 82, 13, 84, 38, 75, 38, 78, 14, 74, 39, 67, 15, 94, 64, 88, 31, 79, 24, 83, 19, 73, 61, 77, 53, 95, 49, 66, 62, 91, 26, 67, 30, 69, 61, 98, 20, 92, 33, 86, 27, 90, 21, 80, 33, 80, 22, 91, 44, 77, 43, 76, 53, 74, 33, 96, 14, 82, 61, 91, 19, 93, 57, 92, 25, 69, 50, 66, 63, 88, 26, 92, 39, 97, 38, 68, 20, 71, 24, 83, 32, 73, 56, 75, 13, 81, 19, 98, 29, 67, 23, 89, 54, 87, 26, 76, 19, 82, 21, 94, 49, 70, 64, 66]\n"
     ]
    }
   ],
   "source": [
    "print(train_samples)"
   ]
  },
  {
   "cell_type": "code",
   "execution_count": 11,
   "metadata": {},
   "outputs": [
    {
     "name": "stdout",
     "output_type": "stream",
     "text": [
      "[1, 0, 1, 0, 1, 0, 1, 0, 1, 0, 1, 0, 1, 0, 1, 0, 1, 0, 1, 0, 1, 0, 1, 0, 1, 0, 1, 0, 1, 0, 1, 0, 1, 0, 1, 0, 1, 0, 1, 0, 1, 0, 1, 0, 1, 0, 1, 0, 1, 0, 1, 0, 1, 0, 1, 0, 1, 0, 1, 0, 1, 0, 1, 0, 1, 0, 1, 0, 1, 0, 1, 0, 1, 0, 1, 0, 1, 0, 1, 0, 1, 0, 1, 0, 1, 0, 1, 0, 1, 0, 1, 0, 1, 0, 1, 0, 1, 0, 1, 0, 0, 1, 0, 1, 0, 1, 0, 1, 0, 1, 0, 1, 0, 1, 0, 1, 0, 1, 0, 1, 0, 1, 0, 1, 0, 1, 0, 1, 0, 1, 0, 1, 0, 1, 0, 1, 0, 1, 0, 1, 0, 1, 0, 1, 0, 1, 0, 1, 0, 1, 0, 1, 0, 1, 0, 1, 0, 1, 0, 1, 0, 1, 0, 1, 0, 1, 0, 1, 0, 1, 0, 1, 0, 1, 0, 1, 0, 1, 0, 1, 0, 1, 0, 1, 0, 1, 0, 1, 0, 1, 0, 1, 0, 1, 0, 1, 0, 1, 0, 1, 0, 1, 0, 1, 0, 1, 0, 1, 0, 1, 0, 1, 0, 1, 0, 1, 0, 1, 0, 1, 0, 1, 0, 1, 0, 1, 0, 1, 0, 1, 0, 1, 0, 1, 0, 1, 0, 1, 0, 1, 0, 1, 0, 1, 0, 1, 0, 1, 0, 1, 0, 1, 0, 1, 0, 1, 0, 1, 0, 1, 0, 1, 0, 1, 0, 1, 0, 1, 0, 1, 0, 1, 0, 1, 0, 1, 0, 1, 0, 1, 0, 1, 0, 1, 0, 1, 0, 1, 0, 1, 0, 1, 0, 1, 0, 1, 0, 1, 0, 1, 0, 1, 0, 1, 0, 1, 0, 1, 0, 1, 0, 1, 0, 1, 0, 1, 0, 1, 0, 1, 0, 1, 0, 1, 0, 1, 0, 1, 0, 1, 0, 1, 0, 1, 0, 1, 0, 1, 0, 1, 0, 1, 0, 1, 0, 1, 0, 1, 0, 1, 0, 1, 0, 1, 0, 1, 0, 1, 0, 1, 0, 1, 0, 1, 0, 1, 0, 1, 0, 1, 0, 1, 0, 1, 0, 1, 0, 1, 0, 1, 0, 1, 0, 1, 0, 1, 0, 1, 0, 1, 0, 1, 0, 1, 0, 1, 0, 1, 0, 1, 0, 1, 0, 1, 0, 1, 0, 1, 0, 1, 0, 1, 0, 1, 0, 1, 0, 1, 0, 1, 0, 1, 0, 1, 0, 1, 0, 1, 0, 1, 0, 1, 0, 1, 0, 1, 0, 1, 0, 1, 0, 1, 0, 1, 0, 1, 0, 1, 0, 1, 0, 1, 0, 1, 0, 1, 0, 1, 0, 1, 0, 1, 0, 1, 0, 1, 0, 1, 0, 1, 0, 1, 0, 1, 0, 1, 0, 1, 0, 1, 0, 1, 0, 1, 0, 1, 0, 1, 0, 1, 0, 1, 0, 1, 0, 1, 0, 1, 0, 1, 0, 1, 0, 1, 0, 1, 0, 1, 0, 1, 0, 1, 0, 1, 0, 1, 0, 1, 0, 1, 0, 1, 0, 1, 0, 1, 0, 1, 0, 1, 0, 1, 0, 1, 0, 1, 0, 1, 0, 1, 0, 1, 0, 1, 0, 1, 0, 1, 0, 1, 0, 1, 0, 1, 0, 1, 0, 1, 0, 1, 0, 1, 0, 1, 0, 1, 0, 1, 0, 1, 0, 1, 0, 1, 0, 1, 0, 1, 0, 1, 0, 1, 0, 1, 0, 1, 0, 1, 0, 1, 0, 1, 0, 1, 0, 1, 0, 1, 0, 1, 0, 1, 0, 1, 0, 1, 0, 1, 0, 1, 0, 1, 0, 1, 0, 1, 0, 1, 0, 1, 0, 1, 0, 1, 0, 1, 0, 1, 0, 1, 0, 1, 0, 1, 0, 1, 0, 1, 0, 1, 0, 1, 0, 1, 0, 1, 0, 1, 0, 1, 0, 1, 0, 1, 0, 1, 0, 1, 0, 1, 0, 1, 0, 1, 0, 1, 0, 1, 0, 1, 0, 1, 0, 1, 0, 1, 0, 1, 0, 1, 0, 1, 0, 1, 0, 1, 0, 1, 0, 1, 0, 1, 0, 1, 0, 1, 0, 1, 0, 1, 0, 1, 0, 1, 0, 1, 0, 1, 0, 1, 0, 1, 0, 1, 0, 1, 0, 1, 0, 1, 0, 1, 0, 1, 0, 1, 0, 1, 0, 1, 0, 1, 0, 1, 0, 1, 0, 1, 0, 1, 0, 1, 0, 1, 0, 1, 0, 1, 0, 1, 0, 1, 0, 1, 0, 1, 0, 1, 0, 1, 0, 1, 0, 1, 0, 1, 0, 1, 0, 1, 0, 1, 0, 1, 0, 1, 0, 1, 0, 1, 0, 1, 0, 1, 0, 1, 0, 1, 0, 1, 0, 1, 0, 1, 0, 1, 0, 1, 0, 1, 0, 1, 0, 1, 0, 1, 0, 1, 0, 1, 0, 1, 0, 1, 0, 1, 0, 1, 0, 1, 0, 1, 0, 1, 0, 1, 0, 1, 0, 1, 0, 1, 0, 1, 0, 1, 0, 1, 0, 1, 0, 1, 0, 1, 0, 1, 0, 1, 0, 1, 0, 1, 0, 1, 0, 1, 0, 1, 0, 1, 0, 1, 0, 1, 0, 1, 0, 1, 0, 1, 0, 1, 0, 1, 0, 1, 0, 1, 0, 1, 0, 1, 0, 1, 0, 1, 0, 1, 0, 1, 0, 1, 0, 1, 0, 1, 0, 1, 0, 1, 0, 1, 0, 1, 0, 1, 0, 1, 0, 1, 0, 1, 0, 1, 0, 1, 0, 1, 0, 1, 0, 1, 0, 1, 0, 1, 0, 1, 0, 1, 0, 1, 0, 1, 0, 1, 0, 1, 0, 1, 0, 1, 0, 1, 0, 1, 0, 1, 0, 1, 0, 1, 0, 1, 0, 1, 0, 1, 0, 1, 0, 1, 0, 1, 0, 1, 0, 1, 0, 1, 0, 1, 0, 1, 0, 1, 0, 1, 0, 1, 0, 1, 0, 1, 0, 1, 0, 1, 0, 1, 0, 1, 0, 1, 0, 1, 0, 1, 0, 1, 0, 1, 0, 1, 0, 1, 0, 1, 0, 1, 0, 1, 0, 1, 0, 1, 0, 1, 0, 1, 0, 1, 0, 1, 0, 1, 0, 1, 0, 1, 0, 1, 0, 1, 0, 1, 0, 1, 0, 1, 0, 1, 0, 1, 0, 1, 0, 1, 0, 1, 0, 1, 0, 1, 0, 1, 0, 1, 0, 1, 0, 1, 0, 1, 0, 1, 0, 1, 0, 1, 0, 1, 0, 1, 0, 1, 0, 1, 0, 1, 0, 1, 0, 1, 0, 1, 0, 1, 0, 1, 0, 1, 0, 1, 0, 1, 0, 1, 0, 1, 0, 1, 0, 1, 0, 1, 0, 1, 0, 1, 0, 1, 0, 1, 0, 1, 0, 1, 0, 1, 0, 1, 0, 1, 0, 1, 0, 1, 0, 1, 0, 1, 0, 1, 0, 1, 0, 1, 0, 1, 0, 1, 0, 1, 0, 1, 0, 1, 0, 1, 0, 1, 0, 1, 0, 1, 0, 1, 0, 1, 0, 1, 0, 1, 0, 1, 0, 1, 0, 1, 0, 1, 0, 1, 0, 1, 0, 1, 0, 1, 0, 1, 0, 1, 0, 1, 0, 1, 0, 1, 0, 1, 0, 1, 0, 1, 0, 1, 0, 1, 0, 1, 0, 1, 0, 1, 0, 1, 0, 1, 0, 1, 0, 1, 0, 1, 0, 1, 0, 1, 0, 1, 0, 1, 0, 1, 0, 1, 0, 1, 0, 1, 0, 1, 0, 1, 0, 1, 0, 1, 0, 1, 0, 1, 0, 1, 0, 1, 0, 1, 0, 1, 0, 1, 0, 1, 0, 1, 0, 1, 0, 1, 0, 1, 0, 1, 0, 1, 0, 1, 0, 1, 0, 1, 0, 1, 0, 1, 0, 1, 0, 1, 0, 1, 0, 1, 0, 1, 0, 1, 0, 1, 0, 1, 0, 1, 0, 1, 0, 1, 0, 1, 0, 1, 0, 1, 0, 1, 0, 1, 0, 1, 0, 1, 0, 1, 0, 1, 0, 1, 0, 1, 0, 1, 0, 1, 0, 1, 0, 1, 0, 1, 0, 1, 0, 1, 0, 1, 0, 1, 0, 1, 0, 1, 0, 1, 0, 1, 0, 1, 0, 1, 0, 1, 0, 1, 0, 1, 0, 1, 0, 1, 0, 1, 0, 1, 0, 1, 0, 1, 0, 1, 0, 1, 0, 1, 0, 1, 0, 1, 0, 1, 0, 1, 0, 1, 0, 1, 0, 1, 0, 1, 0, 1, 0, 1, 0, 1, 0, 1, 0, 1, 0, 1, 0, 1, 0, 1, 0, 1, 0, 1, 0, 1, 0, 1, 0, 1, 0, 1, 0, 1, 0, 1, 0, 1, 0, 1, 0, 1, 0, 1, 0, 1, 0, 1, 0, 1, 0, 1, 0, 1, 0, 1, 0, 1, 0, 1, 0, 1, 0, 1, 0, 1, 0, 1, 0, 1, 0, 1, 0, 1, 0, 1, 0, 1, 0, 1, 0, 1, 0, 1, 0, 1, 0, 1, 0, 1, 0, 1, 0, 1, 0, 1, 0, 1, 0, 1, 0, 1, 0, 1, 0, 1, 0, 1, 0, 1, 0, 1, 0, 1, 0, 1, 0, 1, 0, 1, 0, 1, 0, 1, 0, 1, 0, 1, 0, 1, 0, 1, 0, 1, 0, 1, 0, 1, 0, 1, 0, 1, 0, 1, 0, 1, 0, 1, 0, 1, 0, 1, 0, 1, 0, 1, 0, 1, 0, 1, 0, 1, 0, 1, 0, 1, 0, 1, 0, 1, 0, 1, 0, 1, 0, 1, 0, 1, 0, 1, 0, 1, 0, 1, 0, 1, 0, 1, 0, 1, 0, 1, 0, 1, 0, 1, 0, 1, 0, 1, 0, 1, 0, 1, 0, 1, 0, 1, 0, 1, 0, 1, 0, 1, 0, 1, 0, 1, 0, 1, 0, 1, 0, 1, 0, 1, 0, 1, 0, 1, 0, 1, 0, 1, 0, 1, 0, 1, 0, 1, 0, 1, 0, 1, 0, 1, 0, 1, 0, 1, 0, 1, 0, 1, 0, 1, 0, 1, 0, 1, 0, 1, 0, 1, 0, 1, 0, 1, 0, 1, 0, 1, 0, 1, 0, 1, 0, 1, 0, 1, 0, 1, 0, 1, 0, 1, 0, 1, 0, 1, 0, 1, 0, 1, 0, 1, 0, 1, 0, 1, 0, 1, 0, 1, 0, 1, 0, 1, 0, 1, 0, 1, 0, 1, 0, 1, 0, 1, 0, 1, 0, 1, 0, 1, 0, 1, 0, 1, 0, 1, 0, 1, 0, 1, 0, 1, 0, 1, 0, 1, 0, 1, 0, 1, 0, 1, 0, 1, 0, 1, 0, 1, 0, 1, 0, 1, 0, 1, 0, 1, 0, 1, 0, 1, 0, 1, 0, 1, 0, 1, 0, 1, 0, 1, 0, 1, 0, 1, 0, 1, 0, 1, 0, 1, 0, 1, 0, 1, 0, 1, 0, 1, 0, 1, 0, 1, 0, 1, 0, 1, 0, 1, 0, 1, 0, 1, 0, 1, 0, 1, 0, 1, 0, 1, 0, 1, 0, 1, 0, 1, 0, 1, 0, 1, 0, 1, 0, 1, 0, 1, 0, 1, 0, 1, 0, 1, 0, 1, 0, 1, 0, 1, 0, 1, 0, 1, 0, 1, 0, 1, 0, 1, 0, 1, 0, 1, 0, 1, 0, 1, 0, 1, 0, 1, 0, 1, 0, 1, 0, 1, 0, 1, 0, 1, 0, 1, 0, 1, 0, 1, 0, 1, 0, 1, 0, 1, 0, 1, 0, 1, 0, 1, 0, 1, 0, 1, 0, 1, 0, 1, 0, 1, 0, 1, 0, 1, 0, 1, 0, 1, 0, 1, 0, 1, 0, 1, 0, 1, 0, 1, 0, 1, 0, 1, 0, 1, 0, 1, 0, 1, 0, 1, 0, 1, 0, 1, 0, 1, 0, 1, 0, 1, 0, 1, 0, 1, 0, 1, 0, 1, 0, 1, 0, 1, 0, 1, 0, 1, 0, 1, 0, 1, 0, 1, 0, 1, 0, 1, 0, 1, 0, 1, 0, 1, 0, 1, 0, 1, 0, 1, 0, 1, 0, 1, 0, 1, 0, 1, 0, 1, 0, 1, 0, 1, 0, 1, 0, 1, 0, 1, 0, 1, 0, 1, 0, 1, 0, 1, 0, 1, 0, 1, 0, 1, 0, 1, 0, 1, 0, 1, 0, 1, 0, 1, 0, 1, 0, 1, 0, 1, 0, 1, 0, 1, 0, 1, 0, 1, 0, 1, 0, 1, 0, 1, 0, 1, 0, 1, 0, 1, 0, 1, 0, 1, 0, 1, 0, 1, 0, 1, 0, 1, 0, 1, 0, 1, 0, 1, 0, 1, 0, 1, 0, 1, 0, 1, 0, 1, 0, 1, 0, 1, 0, 1, 0, 1, 0, 1, 0, 1, 0, 1, 0, 1, 0, 1, 0, 1, 0, 1, 0, 1, 0, 1, 0, 1, 0, 1, 0, 1, 0, 1]\n"
     ]
    }
   ],
   "source": [
    "print(train_labels)"
   ]
  },
  {
   "cell_type": "code",
   "execution_count": 12,
   "metadata": {},
   "outputs": [],
   "source": [
    "train_labels =  np.array(train_labels)\n",
    "train_samples =  np.array(train_samples)\n",
    "train_labels, train_samples = shuffle(train_labels, train_samples)"
   ]
  },
  {
   "cell_type": "code",
   "execution_count": 16,
   "metadata": {},
   "outputs": [],
   "source": [
    "scaler =  MinMaxScaler(feature_range=(0,1))\n",
    "scaled_train_samples = scaler.fit_transform(train_samples.reshape(-1,1))"
   ]
  },
  {
   "cell_type": "code",
   "execution_count": 19,
   "metadata": {},
   "outputs": [
    {
     "name": "stdout",
     "output_type": "stream",
     "text": [
      "[[0.98850575]\n",
      " [0.1954023 ]\n",
      " [0.40229885]\n",
      " ...\n",
      " [0.42528736]\n",
      " [0.12643678]\n",
      " [0.02298851]]\n"
     ]
    }
   ],
   "source": [
    "print(scaled_train_samples)"
   ]
  },
  {
   "cell_type": "markdown",
   "metadata": {},
   "source": [
    "# Simple tf.keras Sequential Model"
   ]
  },
  {
   "cell_type": "code",
   "execution_count": 24,
   "metadata": {},
   "outputs": [],
   "source": [
    "import tensorflow as tf\n",
    "from tensorflow import keras\n",
    "from tensorflow.keras.models import Sequential\n",
    "from tensorflow.keras.layers import Activation, Dense"
   ]
  },
  {
   "cell_type": "code",
   "execution_count": 26,
   "metadata": {},
   "outputs": [],
   "source": [
    "# In case you run a GPU!\n",
    "\n",
    "#physical_devices = tf.config.experimental.list_physical_devices('GPU')\n",
    "#print(\"Num GPUs Available: \", len(physical_devices))\n",
    "#tf.config.experimental.set_memory_growth(physical_devices[0], True)"
   ]
  },
  {
   "cell_type": "code",
   "execution_count": 27,
   "metadata": {},
   "outputs": [],
   "source": [
    "model =  Sequential([\n",
    "    Dense(units=16, input_shape=(1,), activation='relu'),\n",
    "    Dense(units=32, activation='relu'),\n",
    "    Dense(units=2, activation='softmax')\n",
    "])"
   ]
  },
  {
   "cell_type": "code",
   "execution_count": 28,
   "metadata": {},
   "outputs": [
    {
     "name": "stdout",
     "output_type": "stream",
     "text": [
      "Model: \"sequential\"\n",
      "_________________________________________________________________\n",
      "Layer (type)                 Output Shape              Param #   \n",
      "=================================================================\n",
      "dense (Dense)                (None, 16)                32        \n",
      "_________________________________________________________________\n",
      "dense_1 (Dense)              (None, 32)                544       \n",
      "_________________________________________________________________\n",
      "dense_2 (Dense)              (None, 2)                 66        \n",
      "=================================================================\n",
      "Total params: 642\n",
      "Trainable params: 642\n",
      "Non-trainable params: 0\n",
      "_________________________________________________________________\n"
     ]
    }
   ],
   "source": [
    "model.summary()"
   ]
  },
  {
   "cell_type": "code",
   "execution_count": 31,
   "metadata": {},
   "outputs": [],
   "source": [
    "from tensorflow.keras.optimizers import Adam\n",
    "from tensorflow.keras.metrics import categorical_crossentropy"
   ]
  },
  {
   "cell_type": "code",
   "execution_count": 32,
   "metadata": {},
   "outputs": [],
   "source": [
    "model.compile(optimizer=Adam(learning_rate=0.0001), loss='sparse_categorical_crossentropy', metrics=['accuracy'])"
   ]
  },
  {
   "cell_type": "code",
   "execution_count": 39,
   "metadata": {},
   "outputs": [
    {
     "name": "stdout",
     "output_type": "stream",
     "text": [
      "Epoch 1/30\n",
      "210/210 - 0s - loss: 0.2485 - accuracy: 0.9381\n",
      "Epoch 2/30\n",
      "210/210 - 0s - loss: 0.2482 - accuracy: 0.9333\n",
      "Epoch 3/30\n",
      "210/210 - 0s - loss: 0.2479 - accuracy: 0.9357\n",
      "Epoch 4/30\n",
      "210/210 - 0s - loss: 0.2474 - accuracy: 0.9333\n",
      "Epoch 5/30\n",
      "210/210 - 0s - loss: 0.2471 - accuracy: 0.9381\n",
      "Epoch 6/30\n",
      "210/210 - 0s - loss: 0.2466 - accuracy: 0.9333\n",
      "Epoch 7/30\n",
      "210/210 - 0s - loss: 0.2465 - accuracy: 0.9386\n",
      "Epoch 8/30\n",
      "210/210 - 0s - loss: 0.2461 - accuracy: 0.9386\n",
      "Epoch 9/30\n",
      "210/210 - 0s - loss: 0.2458 - accuracy: 0.9367\n",
      "Epoch 10/30\n",
      "210/210 - 0s - loss: 0.2454 - accuracy: 0.9395\n",
      "Epoch 11/30\n",
      "210/210 - 0s - loss: 0.2449 - accuracy: 0.9400\n",
      "Epoch 12/30\n",
      "210/210 - 0s - loss: 0.2449 - accuracy: 0.9329\n",
      "Epoch 13/30\n",
      "210/210 - 0s - loss: 0.2445 - accuracy: 0.9400\n",
      "Epoch 14/30\n",
      "210/210 - 0s - loss: 0.2442 - accuracy: 0.9390\n",
      "Epoch 15/30\n",
      "210/210 - 0s - loss: 0.2439 - accuracy: 0.9400\n",
      "Epoch 16/30\n",
      "210/210 - 0s - loss: 0.2436 - accuracy: 0.9400\n",
      "Epoch 17/30\n",
      "210/210 - 0s - loss: 0.2434 - accuracy: 0.9400\n",
      "Epoch 18/30\n",
      "210/210 - 0s - loss: 0.2433 - accuracy: 0.9390\n",
      "Epoch 19/30\n",
      "210/210 - 0s - loss: 0.2427 - accuracy: 0.9400\n",
      "Epoch 20/30\n",
      "210/210 - 0s - loss: 0.2427 - accuracy: 0.9400\n",
      "Epoch 21/30\n",
      "210/210 - 0s - loss: 0.2423 - accuracy: 0.9400\n",
      "Epoch 22/30\n",
      "210/210 - 0s - loss: 0.2421 - accuracy: 0.9386\n",
      "Epoch 23/30\n",
      "210/210 - 0s - loss: 0.2419 - accuracy: 0.9405\n",
      "Epoch 24/30\n",
      "210/210 - 0s - loss: 0.2416 - accuracy: 0.9400\n",
      "Epoch 25/30\n",
      "210/210 - 0s - loss: 0.2413 - accuracy: 0.9400\n",
      "Epoch 26/30\n",
      "210/210 - 0s - loss: 0.2412 - accuracy: 0.9400\n",
      "Epoch 27/30\n",
      "210/210 - 0s - loss: 0.2408 - accuracy: 0.9400\n",
      "Epoch 28/30\n",
      "210/210 - 0s - loss: 0.2408 - accuracy: 0.9400\n",
      "Epoch 29/30\n",
      "210/210 - 0s - loss: 0.2404 - accuracy: 0.9400\n",
      "Epoch 30/30\n",
      "210/210 - 0s - loss: 0.2402 - accuracy: 0.9400\n"
     ]
    }
   ],
   "source": [
    "model_fit = model.fit(x=scaled_train_samples, y=train_labels, batch_size=10, epochs=30, shuffle=True, verbose=2)"
   ]
  },
  {
   "cell_type": "code",
   "execution_count": 68,
   "metadata": {},
   "outputs": [
    {
     "data": {
      "text/plain": [
       "Text(0, 0.5, 'Loss')"
      ]
     },
     "execution_count": 68,
     "metadata": {},
     "output_type": "execute_result"
    },
    {
     "data": {
      "image/png": "[encoded data removed]",
      "text/plain": [
       "<Figure size 1080x864 with 2 Axes>"
      ]
     },
     "metadata": {},
     "output_type": "display_data"
    }
   ],
   "source": [
    "import matplotlib\n",
    "from matplotlib import pyplot as plt\n",
    "\n",
    "fig = plt.figure(1, figsize=(15, 12), facecolor='w', edgecolor='k')\n",
    "ax1 = plt.subplot(2, 2, 1)\n",
    "plt.plot(model_fit.epoch,model_fit.history[\"accuracy\"])\n",
    "plt.xlabel('Epoch' , fontsize=20)\n",
    "plt.ylabel('Accuracy' , fontsize=20)\n",
    "\n",
    "ax2 = plt.subplot(2, 2, 2)\n",
    "plt.plot(model_fit.epoch,model_fit.history[\"loss\"])\n",
    "plt.xlabel('Epoch' , fontsize=20)\n",
    "plt.ylabel('Loss' , fontsize=20)"
   ]
  },
  {
   "cell_type": "code",
   "execution_count": null,
   "metadata": {},
   "outputs": [],
   "source": []
  }
 ],
 "metadata": {
  "kernelspec": {
   "display_name": "Python 3",
   "language": "python",
   "name": "python3"
  },
  "language_info": {
   "codemirror_mode": {
    "name": "ipython",
    "version": 3
   },
   "file_extension": ".py",
   "mimetype": "text/x-python",
   "name": "python",
   "nbconvert_exporter": "python",
   "pygments_lexer": "ipython3",
   "version": "3.8.3"
  }
 },
 "nbformat": 4,
 "nbformat_minor": 4
}
