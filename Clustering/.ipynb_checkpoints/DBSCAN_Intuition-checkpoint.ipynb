{
 "cells": [
  {
   "cell_type": "code",
   "execution_count": null,
   "id": "a58f26ed-2110-49f9-a086-e0b4dfd2bc50",
   "metadata": {},
   "outputs": [],
   "source": []
  },
  {
   "cell_type": "code",
   "execution_count": 3,
   "id": "e03f6689-072c-4d33-9a3e-ac7ebb058445",
   "metadata": {},
   "outputs": [],
   "source": [
    "from sklearn.cluster import DBSCAN\n",
    "from matplotlib import pyplot as plt\n",
    "import numpy as np"
   ]
  },
  {
   "cell_type": "code",
   "execution_count": 6,
   "id": "44614862-e8ee-45e1-9c81-7d85ff6b0e01",
   "metadata": {},
   "outputs": [
    {
     "name": "stdout",
     "output_type": "stream",
     "text": [
      "[[ 1  2]\n",
      " [ 3  4]\n",
      " [ 4  3]\n",
      " [ 8  7]\n",
      " [ 7  8]\n",
      " [25 80]]\n"
     ]
    }
   ],
   "source": [
    "X = np.array([[1,2], [3,4], [4,3], [8,7], [7,8], [25,80]])\n",
    "print(X)"
   ]
  },
  {
   "cell_type": "code",
   "execution_count": 7,
   "id": "4b4abeba-92ce-4d29-8e5a-da293e35e3f5",
   "metadata": {},
   "outputs": [
    {
     "data": {
      "text/plain": [
       "<matplotlib.collections.PathCollection at 0x7fea86e7db20>"
      ]
     },
     "execution_count": 7,
     "metadata": {},
     "output_type": "execute_result"
    },
    {
     "data": {
      "image/png": "[encoded data removed]",
      "text/plain": [
       "<Figure size 432x288 with 1 Axes>"
      ]
     },
     "metadata": {
      "needs_background": "light"
     },
     "output_type": "display_data"
    }
   ],
   "source": [
    "plt.scatter(X[:,0], X[:,1])"
   ]
  },
  {
   "cell_type": "code",
   "execution_count": 8,
   "id": "0a5431fd-e4c4-4d39-8e4d-a79efb3d2d3e",
   "metadata": {},
   "outputs": [],
   "source": [
    "clustering = DBSCAN(eps=3, min_samples=2).fit(X)"
   ]
  },
  {
   "cell_type": "code",
   "execution_count": 9,
   "id": "a146ad18-c78f-4adf-9827-f389d08882cf",
   "metadata": {},
   "outputs": [
    {
     "data": {
      "text/plain": [
       "array([ 0,  0,  0,  1,  1, -1])"
      ]
     },
     "execution_count": 9,
     "metadata": {},
     "output_type": "execute_result"
    }
   ],
   "source": [
    "clustering.labels_"
   ]
  },
  {
   "cell_type": "code",
   "execution_count": 10,
   "id": "f7fb16cf-e3bf-4e60-b1e5-a770ac183690",
   "metadata": {},
   "outputs": [],
   "source": [
    "clustering = DBSCAN(eps=9, min_samples=2).fit(X)"
   ]
  },
  {
   "cell_type": "code",
   "execution_count": 11,
   "id": "d473b166-4f95-4d3f-93d0-bf66f9f91734",
   "metadata": {},
   "outputs": [
    {
     "data": {
      "text/plain": [
       "array([ 0,  0,  0,  0,  0, -1])"
      ]
     },
     "execution_count": 11,
     "metadata": {},
     "output_type": "execute_result"
    }
   ],
   "source": [
    "clustering.labels_"
   ]
  },
  {
   "cell_type": "code",
   "execution_count": 12,
   "id": "d3d3e24b-d293-423d-a69f-d7b35d26460a",
   "metadata": {},
   "outputs": [],
   "source": [
    "clustering = DBSCAN(eps=9, min_samples=6).fit(X)"
   ]
  },
  {
   "cell_type": "code",
   "execution_count": 13,
   "id": "9db82797-af87-42f3-8223-0b025548823a",
   "metadata": {},
   "outputs": [
    {
     "data": {
      "text/plain": [
       "array([-1, -1, -1, -1, -1, -1])"
      ]
     },
     "execution_count": 13,
     "metadata": {},
     "output_type": "execute_result"
    }
   ],
   "source": [
    "clustering.labels_"
   ]
  },
  {
   "cell_type": "markdown",
   "id": "067d0dce-dcda-4fe5-8b3a-e96c76e1bed8",
   "metadata": {},
   "source": [
    "# An important difference from k-Means"
   ]
  },
  {
   "cell_type": "code",
   "execution_count": 18,
   "id": "6445bbdd-b93d-4455-a24e-b9385bc03fc6",
   "metadata": {},
   "outputs": [],
   "source": [
    "from sklearn.cluster import KMeans\n",
    "kmeans = KMeans(n_clusters=2, random_state=0).fit(X)"
   ]
  },
  {
   "cell_type": "code",
   "execution_count": 19,
   "id": "d740967a-ca57-4a20-8be8-4831d3c8bc58",
   "metadata": {},
   "outputs": [
    {
     "data": {
      "text/plain": [
       "array([0, 0, 0, 0, 0, 1], dtype=int32)"
      ]
     },
     "execution_count": 19,
     "metadata": {},
     "output_type": "execute_result"
    }
   ],
   "source": [
    "kmeans.labels_"
   ]
  },
  {
   "cell_type": "code",
   "execution_count": 20,
   "id": "9a1ac9b6-6b4c-4ee7-88d7-3b2d58d2795e",
   "metadata": {},
   "outputs": [
    {
     "data": {
      "text/plain": [
       "array([[ 4.6,  4.8],\n",
       "       [25. , 80. ]])"
      ]
     },
     "execution_count": 20,
     "metadata": {},
     "output_type": "execute_result"
    }
   ],
   "source": [
    "kmeans.cluster_centers_"
   ]
  },
  {
   "cell_type": "code",
   "execution_count": 21,
   "id": "34399b8b-6269-48a9-b412-36bf3fffd48e",
   "metadata": {},
   "outputs": [
    {
     "data": {
      "text/plain": [
       "array([1, 1], dtype=int32)"
      ]
     },
     "execution_count": 21,
     "metadata": {},
     "output_type": "execute_result"
    }
   ],
   "source": [
    "kmeans.predict([[24,81], [23,85]])"
   ]
  },
  {
   "cell_type": "markdown",
   "id": "acaafca4-c247-45fa-a02e-77a63970347f",
   "metadata": {},
   "source": [
    "# Deciding optimal value for epsilon"
   ]
  },
  {
   "cell_type": "code",
   "execution_count": 25,
   "id": "635669e7-6356-4a29-b058-653c26128e18",
   "metadata": {},
   "outputs": [],
   "source": [
    "from sklearn.datasets import make_blobs\n",
    "from sklearn.neighbors import NearestNeighbors\n",
    "import seaborn as sns\n",
    "sns.set()"
   ]
  },
  {
   "cell_type": "code",
   "execution_count": 26,
   "id": "d36e477e-e0f4-4318-a51b-e8cdb88542a7",
   "metadata": {},
   "outputs": [
    {
     "data": {
      "text/plain": [
       "<matplotlib.collections.PathCollection at 0x7fea88384100>"
      ]
     },
     "execution_count": 26,
     "metadata": {},
     "output_type": "execute_result"
    },
    {
     "data": {
      "image/png": "[encoded data removed]",
      "text/plain": [
       "<Figure size 432x288 with 1 Axes>"
      ]
     },
     "metadata": {},
     "output_type": "display_data"
    }
   ],
   "source": [
    "X, y = make_blobs(n_samples=200, centers=4, cluster_std=0.60, random_state=0)\n",
    "plt.scatter(X[:,0], X[:,1])"
   ]
  },
  {
   "cell_type": "code",
   "execution_count": 27,
   "id": "e67c0dc8-006e-4553-8a4e-dd795202a9da",
   "metadata": {},
   "outputs": [
    {
     "data": {
      "text/plain": [
       "NearestNeighbors(n_neighbors=1)"
      ]
     },
     "execution_count": 27,
     "metadata": {},
     "output_type": "execute_result"
    }
   ],
   "source": [
    "samples = [[0.,0.,0.], [0.,.5,0.], [1.,1.,.5]]\n",
    "neigh = NearestNeighbors(n_neighbors=1)\n",
    "neigh.fit(samples)"
   ]
  },
  {
   "cell_type": "code",
   "execution_count": 28,
   "id": "4feebfa2-54ea-4970-8ed6-12486049542f",
   "metadata": {},
   "outputs": [
    {
     "name": "stdout",
     "output_type": "stream",
     "text": [
      "(array([[0.14142136]]), array([[0]]))\n"
     ]
    }
   ],
   "source": [
    "NearestNeighbors(n_neighbors=1)\n",
    "print(neigh.kneighbors([[0.1,0.,0.1]]))"
   ]
  },
  {
   "cell_type": "code",
   "execution_count": 34,
   "id": "713e9add-23c4-4e16-8241-fa512253bd25",
   "metadata": {},
   "outputs": [],
   "source": [
    "neigh = NearestNeighbors(n_neighbors=2)\n",
    "nbrs =  neigh.fit(X)\n",
    "distance, indices = nbrs.kneighbors(X)"
   ]
  },
  {
   "cell_type": "code",
   "execution_count": 36,
   "id": "ae413f8b-88e8-47ee-b185-74e940d4c6d6",
   "metadata": {},
   "outputs": [
    {
     "name": "stdout",
     "output_type": "stream",
     "text": [
      "[[0.         0.3077693 ]\n",
      " [0.         0.07204812]\n",
      " [0.         0.15106217]\n",
      " [0.         0.40987856]\n",
      " [0.         0.08935554]\n",
      " [0.         0.21448673]\n",
      " [0.         0.17200706]\n",
      " [0.         0.15913959]\n",
      " [0.         0.24207383]\n",
      " [0.         0.01966341]\n",
      " [0.         0.02296282]\n",
      " [0.         0.01264242]\n",
      " [0.         0.03905497]\n",
      " [0.         0.24895377]\n",
      " [0.         0.1680786 ]\n",
      " [0.         0.25730896]\n",
      " [0.         0.03932308]\n",
      " [0.         0.16328387]\n",
      " [0.         0.19868524]\n",
      " [0.         0.21822875]\n",
      " [0.         0.17967984]\n",
      " [0.         0.3078788 ]\n",
      " [0.         0.22596451]\n",
      " [0.         0.12404174]\n",
      " [0.         0.13976049]\n",
      " [0.         0.13156219]\n",
      " [0.         0.22717367]\n",
      " [0.         0.1095539 ]\n",
      " [0.         0.1576804 ]\n",
      " [0.         0.17539258]\n",
      " [0.         0.01593125]\n",
      " [0.         0.18480257]\n",
      " [0.         0.13644162]\n",
      " [0.         0.11163065]\n",
      " [0.         0.26176311]\n",
      " [0.         0.24207383]\n",
      " [0.         0.15952757]\n",
      " [0.         0.01966341]\n",
      " [0.         0.2010996 ]\n",
      " [0.         0.16512925]\n",
      " [0.         0.23733639]\n",
      " [0.         0.1083796 ]\n",
      " [0.         0.18303442]\n",
      " [0.         0.19436544]\n",
      " [0.         0.10206416]\n",
      " [0.         0.14135314]\n",
      " [0.         0.11482982]\n",
      " [0.         0.05158224]\n",
      " [0.         0.07958344]\n",
      " [0.         0.02207558]\n",
      " [0.         0.20353729]\n",
      " [0.         0.11121558]\n",
      " [0.         0.26641611]\n",
      " [0.         0.12641423]\n",
      " [0.         0.24061987]\n",
      " [0.         0.23647322]\n",
      " [0.         0.07167141]\n",
      " [0.         0.06307943]\n",
      " [0.         0.31991687]\n",
      " [0.         0.20980317]\n",
      " [0.         0.40987856]\n",
      " [0.         0.10964975]\n",
      " [0.         0.11163065]\n",
      " [0.         0.06984003]\n",
      " [0.         0.1101499 ]\n",
      " [0.         0.02296282]\n",
      " [0.         0.11509095]\n",
      " [0.         0.04636689]\n",
      " [0.         0.31064694]\n",
      " [0.         0.12404174]\n",
      " [0.         0.01234906]\n",
      " [0.         0.10206416]\n",
      " [0.         0.18978456]\n",
      " [0.         0.23176964]\n",
      " [0.         0.05056531]\n",
      " [0.         0.01593125]\n",
      " [0.         0.13644162]\n",
      " [0.         0.24895377]\n",
      " [0.         0.31020985]\n",
      " [0.         0.30251391]\n",
      " [0.         0.03932308]\n",
      " [0.         0.35658113]\n",
      " [0.         0.15835664]\n",
      " [0.         0.61124146]\n",
      " [0.         0.07714258]\n",
      " [0.         0.4054315 ]\n",
      " [0.         0.18978456]\n",
      " [0.         0.06307943]\n",
      " [0.         0.07204812]\n",
      " [0.         0.07250337]\n",
      " [0.         0.07710078]\n",
      " [0.         0.12641423]\n",
      " [0.         0.24927461]\n",
      " [0.         0.29484015]\n",
      " [0.         0.21448673]\n",
      " [0.         0.24888568]\n",
      " [0.         0.06166964]\n",
      " [0.         0.07958344]\n",
      " [0.         0.24061987]\n",
      " [0.         0.09078366]\n",
      " [0.         0.10382143]\n",
      " [0.         0.23329901]\n",
      " [0.         0.26970777]\n",
      " [0.         0.13438155]\n",
      " [0.         0.11295526]\n",
      " [0.         0.11423238]\n",
      " [0.         0.06394655]\n",
      " [0.         0.13976049]\n",
      " [0.         0.14554262]\n",
      " [0.         0.17740977]\n",
      " [0.         0.47761399]\n",
      " [0.         0.15641004]\n",
      " [0.         0.03905497]\n",
      " [0.         0.15065642]\n",
      " [0.         0.45997068]\n",
      " [0.         0.02207558]\n",
      " [0.         0.77658132]\n",
      " [0.         0.14135314]\n",
      " [0.         0.23647322]\n",
      " [0.         0.15913959]\n",
      " [0.         0.2361524 ]\n",
      " [0.         0.30545873]\n",
      " [0.         0.2010996 ]\n",
      " [0.         0.01264242]\n",
      " [0.         0.26636742]\n",
      " [0.         0.27580408]\n",
      " [0.         0.27938423]\n",
      " [0.         0.09758787]\n",
      " [0.         0.1576804 ]\n",
      " [0.         0.04626217]\n",
      " [0.         0.28808026]\n",
      " [0.         0.23476712]\n",
      " [0.         0.31690933]\n",
      " [0.         0.08480982]\n",
      " [0.         0.09959412]\n",
      " [0.         0.16540581]\n",
      " [0.         0.09959412]\n",
      " [0.         0.42995328]\n",
      " [0.         0.01234906]\n",
      " [0.         0.40415321]\n",
      " [0.         0.08935554]\n",
      " [0.         0.06166964]\n",
      " [0.         0.27948351]\n",
      " [0.         0.11509095]\n",
      " [0.         0.78084012]\n",
      " [0.         0.3040261 ]\n",
      " [0.         0.04626217]\n",
      " [0.         0.16030616]\n",
      " [0.         0.49822928]\n",
      " [0.         0.54992946]\n",
      " [0.         0.22601808]\n",
      " [0.         0.22038651]\n",
      " [0.         0.11482982]\n",
      " [0.         0.11121429]\n",
      " [0.         0.15065642]\n",
      " [0.         0.07541255]\n",
      " [0.         0.17967984]\n",
      " [0.         0.22960225]\n",
      " [0.         0.08480982]\n",
      " [0.         0.23201293]\n",
      " [0.         0.04636689]\n",
      " [0.         0.03885268]\n",
      " [0.         0.03885268]\n",
      " [0.         0.3078788 ]\n",
      " [0.         0.09335536]\n",
      " [0.         0.42711945]\n",
      " [0.         0.3385192 ]\n",
      " [0.         0.16259075]\n",
      " [0.         0.1680786 ]\n",
      " [0.         0.26641611]\n",
      " [0.         0.0611787 ]\n",
      " [0.         0.41940428]\n",
      " [0.         0.07167141]\n",
      " [0.         0.40415321]\n",
      " [0.         0.25169873]\n",
      " [0.         0.1083796 ]\n",
      " [0.         0.10818576]\n",
      " [0.         0.31991687]\n",
      " [0.         0.12874176]\n",
      " [0.         0.56539061]\n",
      " [0.         0.31690933]\n",
      " [0.         0.22596451]\n",
      " [0.         0.06394655]\n",
      " [0.         0.17149737]\n",
      " [0.         0.08739771]\n",
      " [0.         0.07250337]\n",
      " [0.         0.3206833 ]\n",
      " [0.         0.13438155]\n",
      " [0.         0.07541255]\n",
      " [0.         0.07710078]\n",
      " [0.         0.1095539 ]\n",
      " [0.         0.4008974 ]\n",
      " [0.         0.18480257]\n",
      " [0.         0.06142808]\n",
      " [0.         0.00975014]\n",
      " [0.         0.00975014]\n",
      " [0.         0.09335536]\n",
      " [0.         0.15106217]\n",
      " [0.         0.06142808]\n",
      " [0.         0.0611787 ]] [[  0  62]\n",
      " [  1  88]\n",
      " [  2 197]\n",
      " [  3  60]\n",
      " [  4 140]\n",
      " [  5  94]\n",
      " [  6  84]\n",
      " [  7 119]\n",
      " [  8  35]\n",
      " [  9  37]\n",
      " [ 10  65]\n",
      " [ 11 123]\n",
      " [ 12 112]\n",
      " [ 13  77]\n",
      " [ 14 168]\n",
      " [ 15  35]\n",
      " [ 16  80]\n",
      " [ 17  41]\n",
      " [ 18  48]\n",
      " [ 19 199]\n",
      " [ 20 156]\n",
      " [ 21 163]\n",
      " [ 22 181]\n",
      " [ 23  69]\n",
      " [ 24 107]\n",
      " [ 25 190]\n",
      " [ 26  42]\n",
      " [ 27 190]\n",
      " [ 28 128]\n",
      " [ 29 115]\n",
      " [ 30  75]\n",
      " [ 31 192]\n",
      " [ 32  76]\n",
      " [ 33  62]\n",
      " [ 34  36]\n",
      " [ 35   8]\n",
      " [ 36 196]\n",
      " [ 37   9]\n",
      " [ 38 122]\n",
      " [ 39  64]\n",
      " [ 40  30]\n",
      " [ 41 175]\n",
      " [ 42 100]\n",
      " [ 43 184]\n",
      " [ 44  71]\n",
      " [ 45 117]\n",
      " [ 46 152]\n",
      " [ 47  67]\n",
      " [ 48  97]\n",
      " [ 49 115]\n",
      " [ 50  17]\n",
      " [ 51  88]\n",
      " [ 52 169]\n",
      " [ 53  91]\n",
      " [ 54  98]\n",
      " [ 55 118]\n",
      " [ 56 172]\n",
      " [ 57  87]\n",
      " [ 58 177]\n",
      " [ 59 147]\n",
      " [ 60   3]\n",
      " [ 61 184]\n",
      " [ 62  33]\n",
      " [ 63 115]\n",
      " [ 64 175]\n",
      " [ 65  10]\n",
      " [ 66 143]\n",
      " [ 67 160]\n",
      " [ 68  52]\n",
      " [ 69  23]\n",
      " [ 70 138]\n",
      " [ 71  44]\n",
      " [ 72  86]\n",
      " [ 73 119]\n",
      " [ 74 194]\n",
      " [ 75  30]\n",
      " [ 76  32]\n",
      " [ 77  13]\n",
      " [ 78 102]\n",
      " [ 79 108]\n",
      " [ 80  16]\n",
      " [ 81  94]\n",
      " [ 82 107]\n",
      " [ 83 180]\n",
      " [ 84  96]\n",
      " [ 85  93]\n",
      " [ 86  72]\n",
      " [ 87  57]\n",
      " [ 88   1]\n",
      " [ 89 185]\n",
      " [ 90 189]\n",
      " [ 91  53]\n",
      " [ 92  20]\n",
      " [ 93  99]\n",
      " [ 94   5]\n",
      " [ 95 113]\n",
      " [ 96 141]\n",
      " [ 97  48]\n",
      " [ 98  54]\n",
      " [ 99 155]\n",
      " [100 158]\n",
      " [101  66]\n",
      " [102 168]\n",
      " [103 187]\n",
      " [104 134]\n",
      " [105 164]\n",
      " [106 182]\n",
      " [107  24]\n",
      " [108  24]\n",
      " [109  65]\n",
      " [110 137]\n",
      " [111 178]\n",
      " [112  12]\n",
      " [113 154]\n",
      " [114 191]\n",
      " [115  49]\n",
      " [116  83]\n",
      " [117  45]\n",
      " [118  55]\n",
      " [119   7]\n",
      " [120 150]\n",
      " [121  89]\n",
      " [122  38]\n",
      " [123  11]\n",
      " [124  43]\n",
      " [125 169]\n",
      " [126  46]\n",
      " [127 195]\n",
      " [128  28]\n",
      " [129 146]\n",
      " [130  52]\n",
      " [131 170]\n",
      " [132 180]\n",
      " [133 158]\n",
      " [134 136]\n",
      " [135 111]\n",
      " [136 134]\n",
      " [137 120]\n",
      " [138  70]\n",
      " [139 173]\n",
      " [140   4]\n",
      " [141  96]\n",
      " [142 101]\n",
      " [143  66]\n",
      " [144 116]\n",
      " [145  79]\n",
      " [146 129]\n",
      " [147 107]\n",
      " [148  68]\n",
      " [149  47]\n",
      " [150  91]\n",
      " [151  18]\n",
      " [152  46]\n",
      " [153 127]\n",
      " [154 113]\n",
      " [155 188]\n",
      " [156  20]\n",
      " [157 135]\n",
      " [158 133]\n",
      " [159  19]\n",
      " [160  67]\n",
      " [161 162]\n",
      " [162 161]\n",
      " [163  21]\n",
      " [164 196]\n",
      " [165 173]\n",
      " [166 126]\n",
      " [167  25]\n",
      " [168  14]\n",
      " [169  52]\n",
      " [170 199]\n",
      " [171 152]\n",
      " [172  56]\n",
      " [173 139]\n",
      " [174  92]\n",
      " [175  41]\n",
      " [176 155]\n",
      " [177  58]\n",
      " [178  23]\n",
      " [179  93]\n",
      " [180 132]\n",
      " [181  22]\n",
      " [182 106]\n",
      " [183 128]\n",
      " [184  10]\n",
      " [185  89]\n",
      " [186 185]\n",
      " [187 103]\n",
      " [188 155]\n",
      " [189  90]\n",
      " [190  27]\n",
      " [191  22]\n",
      " [192  31]\n",
      " [193 198]\n",
      " [194 195]\n",
      " [195 194]\n",
      " [196 164]\n",
      " [197   2]\n",
      " [198 193]\n",
      " [199 170]]\n"
     ]
    }
   ],
   "source": [
    "print(distance, indices)"
   ]
  },
  {
   "cell_type": "code",
   "execution_count": 32,
   "id": "8735414b-612c-43a5-9616-5413ffb1319f",
   "metadata": {},
   "outputs": [
    {
     "data": {
      "text/plain": [
       "[<matplotlib.lines.Line2D at 0x7fea883f0fa0>]"
      ]
     },
     "execution_count": 32,
     "metadata": {},
     "output_type": "execute_result"
    },
    {
     "data": {
      "image/png": "[encoded data removed]",
      "text/plain": [
       "<Figure size 432x288 with 1 Axes>"
      ]
     },
     "metadata": {},
     "output_type": "display_data"
    }
   ],
   "source": [
    "distances = np.sort(distance, axis=0)\n",
    "distances =  distances[:,1]\n",
    "plt.plot(distances)"
   ]
  },
  {
   "cell_type": "code",
   "execution_count": null,
   "id": "52972f5d-22f2-4578-89f4-a298b05f0f8e",
   "metadata": {},
   "outputs": [],
   "source": []
  }
 ],
 "metadata": {
  "kernelspec": {
   "display_name": "Python 3",
   "language": "python",
   "name": "python3"
  },
  "language_info": {
   "codemirror_mode": {
    "name": "ipython",
    "version": 3
   },
   "file_extension": ".py",
   "mimetype": "text/x-python",
   "name": "python",
   "nbconvert_exporter": "python",
   "pygments_lexer": "ipython3",
   "version": "3.8.8"
  }
 },
 "nbformat": 4,
 "nbformat_minor": 5
}
