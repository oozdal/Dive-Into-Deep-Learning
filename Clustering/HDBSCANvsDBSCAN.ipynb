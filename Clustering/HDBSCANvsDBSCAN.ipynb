{
 "cells": [
  {
   "cell_type": "markdown",
   "id": "c8dc1e15-a9b3-437d-8692-c89cf9052da1",
   "metadata": {},
   "source": [
    "# Demo of HDBSCAN vs DBSCAN clustering algorithms\n",
    "\n",
    "HDBSCAN finds a clustering that has the greatest stability over a range\n",
    "of epsilon values for standard DBSCAN. This allows clusterings\n",
    "of different densities unlike DBSCAN."
   ]
  },
  {
   "cell_type": "code",
   "execution_count": 2,
   "id": "a2ec9675-a249-40f7-b141-411bcfa9bf11",
   "metadata": {},
   "outputs": [],
   "source": [
    "import numpy as np\n",
    "\n",
    "from hdbscan import HDBSCAN\n",
    "from sklearn.cluster import DBSCAN\n",
    "from sklearn import metrics\n",
    "from sklearn.datasets import make_blobs\n",
    "from sklearn.preprocessing import StandardScaler\n",
    "\n",
    "import time"
   ]
  },
  {
   "cell_type": "code",
   "execution_count": 3,
   "id": "de069f94-f127-45b5-8177-07040790f127",
   "metadata": {},
   "outputs": [],
   "source": [
    "def make_var_density_blobs(n_samples=750, centers=[[0,0]], cluster_std=[0.5], random_state=0):\n",
    "    samples_per_blob = n_samples // len(centers)\n",
    "    blobs = [make_blobs(n_samples=samples_per_blob, centers=[c], cluster_std=cluster_std[i])[0]\n",
    "             for i, c in enumerate(centers)]\n",
    "    labels = [i * np.ones(samples_per_blob) for i in range(len(centers))]\n",
    "    return np.vstack(blobs), np.hstack(labels)"
   ]
  },
  {
   "cell_type": "code",
   "execution_count": 4,
   "id": "18f11089-5e91-4861-ba19-33f12bec1ab8",
   "metadata": {},
   "outputs": [
    {
     "name": "stdout",
     "output_type": "stream",
     "text": [
      "[[ 1.15177011  1.01794312]\n",
      " [ 0.97745088  1.29136287]\n",
      " [ 0.81219622  0.66983895]\n",
      " ...\n",
      " [ 1.08996259 -2.33815203]\n",
      " [ 1.26926865 -0.88026654]\n",
      " [ 1.14605107 -1.03718597]]\n"
     ]
    }
   ],
   "source": [
    "# Generate sample data\n",
    "centers = [[1, 1], [-1, -1], [1, -1]]\n",
    "densities = [0.2, 0.35, 0.5]\n",
    "X, labels_true = make_var_density_blobs(n_samples=750, centers=centers, cluster_std=densities,\n",
    "                            random_state=0)\n",
    "\n",
    "print(X)"
   ]
  },
  {
   "cell_type": "code",
   "execution_count": 5,
   "id": "a14fd22b-e808-4d02-b389-428a82e7eb47",
   "metadata": {},
   "outputs": [
    {
     "name": "stdout",
     "output_type": "stream",
     "text": [
      "[[ 0.81080727  1.33253543]\n",
      " [ 0.63669939  1.59819727]\n",
      " [ 0.47164509  0.99430824]\n",
      " ...\n",
      " [ 0.74907469 -1.92833515]\n",
      " [ 0.92816336 -0.51181515]\n",
      " [ 0.80509517 -0.6642822 ]]\n"
     ]
    }
   ],
   "source": [
    "X = StandardScaler().fit_transform(X)\n",
    "print(X)"
   ]
  },
  {
   "cell_type": "code",
   "execution_count": 6,
   "id": "3c2e6e2f-bda7-406c-bece-0350107796d7",
   "metadata": {},
   "outputs": [],
   "source": [
    "# Compute HDBSCAN\n",
    "hdb_t1 = time.time()\n",
    "hdb = HDBSCAN(min_cluster_size=10).fit(X)\n",
    "hdb_labels = hdb.labels_\n",
    "hdb_elapsed_time = time.time() - hdb_t1\n",
    "\n",
    "# Compute DBSCAN\n",
    "db_t1 = time.time()\n",
    "db = DBSCAN(eps=0.1).fit(X)\n",
    "db_labels = db.labels_\n",
    "db_elapsed_time = time.time() - db_t1"
   ]
  },
  {
   "cell_type": "code",
   "execution_count": 8,
   "id": "ef8cb0dd-72da-4a1f-9398-e25eb7586e63",
   "metadata": {},
   "outputs": [
    {
     "name": "stdout",
     "output_type": "stream",
     "text": [
      "\n",
      "\n",
      "++ HDBSCAN Results\n",
      "Estimated number of clusters: 3\n",
      "Elapsed time to cluster: 0.0273 s\n",
      "Homogeneity: 0.904\n",
      "Completeness: 0.745\n",
      "V-measure: 0.817\n",
      "Adjusted Rand Index: 0.814\n",
      "Adjusted Mutual Information: 0.816\n",
      "Silhouette Coefficient: 0.556\n"
     ]
    }
   ],
   "source": [
    "# Number of clusters in labels, ignoring noise if present.\n",
    "n_clusters_hdb_ = len(set(hdb_labels)) - (1 if -1 in hdb_labels else 0)\n",
    "\n",
    "print('\\n\\n++ HDBSCAN Results')\n",
    "print('Estimated number of clusters: %d' % n_clusters_hdb_)\n",
    "print('Elapsed time to cluster: %.4f s' % hdb_elapsed_time)\n",
    "print('Homogeneity: %0.3f' % metrics.homogeneity_score(labels_true, hdb_labels))\n",
    "print('Completeness: %0.3f' % metrics.completeness_score(labels_true, hdb_labels))\n",
    "print('V-measure: %0.3f' % metrics.v_measure_score(labels_true, hdb_labels))\n",
    "print('Adjusted Rand Index: %0.3f'\n",
    "      % metrics.adjusted_rand_score(labels_true, hdb_labels))\n",
    "print('Adjusted Mutual Information: %0.3f'\n",
    "      % metrics.adjusted_mutual_info_score(labels_true, hdb_labels))\n",
    "print('Silhouette Coefficient: %0.3f'\n",
    "      % metrics.silhouette_score(X, hdb_labels))"
   ]
  },
  {
   "cell_type": "code",
   "execution_count": 9,
   "id": "6f7bbef9-45dd-4a4a-81ad-da981fe0cd14",
   "metadata": {},
   "outputs": [
    {
     "name": "stdout",
     "output_type": "stream",
     "text": [
      "\n",
      "\n",
      "++ DBSCAN Results\n",
      "Estimated number of clusters: 13\n",
      "Elapsed time to cluster: 0.0073 s\n",
      "Homogeneity: 0.812\n",
      "Completeness: 0.507\n",
      "V-measure: 0.625\n",
      "Adjusted Rand Index: 0.582\n",
      "Adjusted Mutual Information: 0.619\n",
      "Silhouette Coefficient: 0.048\n"
     ]
    }
   ],
   "source": [
    "n_clusters_db_ = len(set(db_labels)) - (1 if -1 in db_labels else 0)\n",
    "\n",
    "print('\\n\\n++ DBSCAN Results')\n",
    "print('Estimated number of clusters: %d' % n_clusters_db_)\n",
    "print('Elapsed time to cluster: %.4f s' % db_elapsed_time)\n",
    "print('Homogeneity: %0.3f' % metrics.homogeneity_score(labels_true, db_labels))\n",
    "print('Completeness: %0.3f' % metrics.completeness_score(labels_true, db_labels))\n",
    "print('V-measure: %0.3f' % metrics.v_measure_score(labels_true, db_labels))\n",
    "print('Adjusted Rand Index: %0.3f'\n",
    "      % metrics.adjusted_rand_score(labels_true, db_labels))\n",
    "print('Adjusted Mutual Information: %0.3f'\n",
    "      % metrics.adjusted_mutual_info_score(labels_true, db_labels))\n",
    "if n_clusters_db_ > 1:\n",
    "    print('Silhouette Coefficient: %0.3f'\n",
    "          % metrics.silhouette_score(X, db_labels))\n",
    "else:\n",
    "    print('Silhouette Coefficient: NaN (too few clusters)')"
   ]
  },
  {
   "cell_type": "markdown",
   "id": "d9be80f1-56db-4bbe-a412-eec16ee92965",
   "metadata": {},
   "source": [
    "# Graphs for the results"
   ]
  },
  {
   "cell_type": "code",
   "execution_count": 10,
   "id": "30e0797e-ef70-4f86-aadb-2307c5c70f4c",
   "metadata": {},
   "outputs": [
    {
     "name": "stderr",
     "output_type": "stream",
     "text": [
      "<ipython-input-10-3dcd947d6eaf>:11: MatplotlibDeprecationWarning: Passing non-integers as three-element position specification is deprecated since 3.3 and will be removed two minor releases later.\n",
      "  hdb_axis = fig.add_subplot('121')\n",
      "<ipython-input-10-3dcd947d6eaf>:12: MatplotlibDeprecationWarning: Passing non-integers as three-element position specification is deprecated since 3.3 and will be removed two minor releases later.\n",
      "  db_axis = fig.add_subplot('122')\n"
     ]
    },
    {
     "data": {
      "image/png": "[encoded data removed]",
      "text/plain": [
       "<Figure size 576x288 with 2 Axes>"
      ]
     },
     "metadata": {
      "needs_background": "light"
     },
     "output_type": "display_data"
    }
   ],
   "source": [
    "##############################################################################\n",
    "# Plot result\n",
    "import matplotlib.pyplot as plt\n",
    "\n",
    "# Black removed and is used for noise instead.\n",
    "hdb_unique_labels = set(hdb_labels)\n",
    "db_unique_labels = set(db_labels)\n",
    "hdb_colors = plt.cm.Spectral(np.linspace(0, 1, len(hdb_unique_labels)))\n",
    "db_colors = plt.cm.Spectral(np.linspace(0, 1, len(db_unique_labels)))\n",
    "fig = plt.figure(figsize=plt.figaspect(0.5))\n",
    "hdb_axis = fig.add_subplot('121')\n",
    "db_axis = fig.add_subplot('122')\n",
    "for k, col in zip(hdb_unique_labels, hdb_colors):\n",
    "    if k == -1:\n",
    "        # Black used for noise.\n",
    "        col = 'k'\n",
    "\n",
    "    hdb_axis.plot(X[hdb_labels == k, 0], X[hdb_labels == k, 1], 'o', markerfacecolor=col,\n",
    "                  markeredgecolor='k', markersize=6)\n",
    "for k, col in zip(db_unique_labels, db_colors):\n",
    "    if k == -1:\n",
    "        # Black used for noise.\n",
    "        col = 'k'\n",
    "\n",
    "    db_axis.plot(X[db_labels == k, 0], X[db_labels == k, 1], 'o', markerfacecolor=col,\n",
    "                  markeredgecolor='k', markersize=6)\n",
    "\n",
    "hdb_axis.set_title('HDBSCAN\\nEstimated number of clusters: %d' % n_clusters_hdb_)\n",
    "db_axis.set_title('DBSCAN\\nEstimated number of clusters: %d' % n_clusters_db_)\n",
    "plt.show()"
   ]
  },
  {
   "cell_type": "code",
   "execution_count": null,
   "id": "87a296bc-26f8-4abd-a8fd-698b85b293e8",
   "metadata": {},
   "outputs": [],
   "source": [
    "\n"
   ]
  },
  {
   "cell_type": "code",
   "execution_count": null,
   "id": "b311a78d-6a08-464f-87df-97b981e0f80a",
   "metadata": {},
   "outputs": [],
   "source": []
  }
 ],
 "metadata": {
  "kernelspec": {
   "display_name": "Python 3",
   "language": "python",
   "name": "python3"
  },
  "language_info": {
   "codemirror_mode": {
    "name": "ipython",
    "version": 3
   },
   "file_extension": ".py",
   "mimetype": "text/x-python",
   "name": "python",
   "nbconvert_exporter": "python",
   "pygments_lexer": "ipython3",
   "version": "3.8.8"
  }
 },
 "nbformat": 4,
 "nbformat_minor": 5
}
