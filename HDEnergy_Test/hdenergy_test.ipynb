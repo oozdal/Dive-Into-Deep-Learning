{
 "cells": [
  {
   "cell_type": "code",
   "execution_count": 64,
   "metadata": {},
   "outputs": [],
   "source": [
    "import pandas as pd\n",
    "import numpy as np\n",
    "import matplotlib.pyplot as plt\n",
    "plt.rcParams.update({\"figure.figsize\" : (12, 8),\n",
    "                     \"axes.facecolor\" : \"white\",\n",
    "                     \"axes.edgecolor\":  \"black\",\n",
    "                     \"savefig.facecolor\": \"white\"})\n",
    "from sklearn.metrics import confusion_matrix\n",
    "from sklearn.metrics import accuracy_score\n",
    "from sklearn.model_selection import train_test_split\n",
    "from sklearn.model_selection import ParameterGrid"
   ]
  },
  {
   "cell_type": "code",
   "execution_count": 3,
   "metadata": {},
   "outputs": [],
   "source": [
    "DirPath = '/Users/oozdal/Documents/hdenergy/datascience_test'\n",
    "df = pd.read_csv(DirPath + '/' + 'data.csv', header=0, sep=\",\")\n",
    "\n",
    "train = pd.read_csv(DirPath + '/' + 'train_data.csv', header=0, sep=\",\")\n",
    "test = pd.read_csv(DirPath + '/' + 'test_data.csv', header=0, sep=\",\")"
   ]
  },
  {
   "cell_type": "code",
   "execution_count": 4,
   "metadata": {},
   "outputs": [
    {
     "data": {
      "text/html": [
       "<div>\n",
       "<style scoped>\n",
       "    .dataframe tbody tr th:only-of-type {\n",
       "        vertical-align: middle;\n",
       "    }\n",
       "\n",
       "    .dataframe tbody tr th {\n",
       "        vertical-align: top;\n",
       "    }\n",
       "\n",
       "    .dataframe thead th {\n",
       "        text-align: right;\n",
       "    }\n",
       "</style>\n",
       "<table border=\"1\" class=\"dataframe\">\n",
       "  <thead>\n",
       "    <tr style=\"text-align: right;\">\n",
       "      <th></th>\n",
       "      <th>date</th>\n",
       "      <th>energy</th>\n",
       "      <th>enthalpy</th>\n",
       "    </tr>\n",
       "  </thead>\n",
       "  <tbody>\n",
       "    <tr>\n",
       "      <th>881</th>\n",
       "      <td>2021-07-22</td>\n",
       "      <td>7904.434286</td>\n",
       "      <td>51036.859402</td>\n",
       "    </tr>\n",
       "    <tr>\n",
       "      <th>882</th>\n",
       "      <td>2021-07-23</td>\n",
       "      <td>7823.580000</td>\n",
       "      <td>49663.463628</td>\n",
       "    </tr>\n",
       "    <tr>\n",
       "      <th>883</th>\n",
       "      <td>2021-07-24</td>\n",
       "      <td>7784.828571</td>\n",
       "      <td>49149.005904</td>\n",
       "    </tr>\n",
       "    <tr>\n",
       "      <th>884</th>\n",
       "      <td>2021-07-25</td>\n",
       "      <td>7779.428571</td>\n",
       "      <td>48810.674380</td>\n",
       "    </tr>\n",
       "    <tr>\n",
       "      <th>885</th>\n",
       "      <td>2021-07-26</td>\n",
       "      <td>7761.780000</td>\n",
       "      <td>47845.314064</td>\n",
       "    </tr>\n",
       "  </tbody>\n",
       "</table>\n",
       "</div>"
      ],
      "text/plain": [
       "           date       energy      enthalpy\n",
       "881  2021-07-22  7904.434286  51036.859402\n",
       "882  2021-07-23  7823.580000  49663.463628\n",
       "883  2021-07-24  7784.828571  49149.005904\n",
       "884  2021-07-25  7779.428571  48810.674380\n",
       "885  2021-07-26  7761.780000  47845.314064"
      ]
     },
     "execution_count": 4,
     "metadata": {},
     "output_type": "execute_result"
    }
   ],
   "source": [
    "df.tail()"
   ]
  },
  {
   "cell_type": "code",
   "execution_count": 5,
   "metadata": {},
   "outputs": [
    {
     "data": {
      "text/html": [
       "<div>\n",
       "<style scoped>\n",
       "    .dataframe tbody tr th:only-of-type {\n",
       "        vertical-align: middle;\n",
       "    }\n",
       "\n",
       "    .dataframe tbody tr th {\n",
       "        vertical-align: top;\n",
       "    }\n",
       "\n",
       "    .dataframe thead th {\n",
       "        text-align: right;\n",
       "    }\n",
       "</style>\n",
       "<table border=\"1\" class=\"dataframe\">\n",
       "  <thead>\n",
       "    <tr style=\"text-align: right;\">\n",
       "      <th></th>\n",
       "      <th>date</th>\n",
       "      <th>energy</th>\n",
       "      <th>enthalpy</th>\n",
       "    </tr>\n",
       "  </thead>\n",
       "  <tbody>\n",
       "    <tr>\n",
       "      <th>454</th>\n",
       "      <td>2020-08-29</td>\n",
       "      <td>7053.522857</td>\n",
       "      <td>44161.951798</td>\n",
       "    </tr>\n",
       "    <tr>\n",
       "      <th>455</th>\n",
       "      <td>2020-08-30</td>\n",
       "      <td>6962.922857</td>\n",
       "      <td>41809.277348</td>\n",
       "    </tr>\n",
       "    <tr>\n",
       "      <th>456</th>\n",
       "      <td>2020-08-31</td>\n",
       "      <td>6762.042857</td>\n",
       "      <td>38882.500190</td>\n",
       "    </tr>\n",
       "    <tr>\n",
       "      <th>457</th>\n",
       "      <td>2020-09-01</td>\n",
       "      <td>6606.548571</td>\n",
       "      <td>37245.478768</td>\n",
       "    </tr>\n",
       "    <tr>\n",
       "      <th>458</th>\n",
       "      <td>2020-09-02</td>\n",
       "      <td>6761.845714</td>\n",
       "      <td>40420.074528</td>\n",
       "    </tr>\n",
       "  </tbody>\n",
       "</table>\n",
       "</div>"
      ],
      "text/plain": [
       "           date       energy      enthalpy\n",
       "454  2020-08-29  7053.522857  44161.951798\n",
       "455  2020-08-30  6962.922857  41809.277348\n",
       "456  2020-08-31  6762.042857  38882.500190\n",
       "457  2020-09-01  6606.548571  37245.478768\n",
       "458  2020-09-02  6761.845714  40420.074528"
      ]
     },
     "execution_count": 5,
     "metadata": {},
     "output_type": "execute_result"
    }
   ],
   "source": [
    "train.tail()"
   ]
  },
  {
   "cell_type": "code",
   "execution_count": 6,
   "metadata": {},
   "outputs": [
    {
     "data": {
      "text/html": [
       "<div>\n",
       "<style scoped>\n",
       "    .dataframe tbody tr th:only-of-type {\n",
       "        vertical-align: middle;\n",
       "    }\n",
       "\n",
       "    .dataframe tbody tr th {\n",
       "        vertical-align: top;\n",
       "    }\n",
       "\n",
       "    .dataframe thead th {\n",
       "        text-align: right;\n",
       "    }\n",
       "</style>\n",
       "<table border=\"1\" class=\"dataframe\">\n",
       "  <thead>\n",
       "    <tr style=\"text-align: right;\">\n",
       "      <th></th>\n",
       "      <th>date</th>\n",
       "      <th>energy</th>\n",
       "      <th>enthalpy</th>\n",
       "    </tr>\n",
       "  </thead>\n",
       "  <tbody>\n",
       "    <tr>\n",
       "      <th>422</th>\n",
       "      <td>2021-07-22</td>\n",
       "      <td>7904.434286</td>\n",
       "      <td>51036.859402</td>\n",
       "    </tr>\n",
       "    <tr>\n",
       "      <th>423</th>\n",
       "      <td>2021-07-23</td>\n",
       "      <td>7823.580000</td>\n",
       "      <td>49663.463628</td>\n",
       "    </tr>\n",
       "    <tr>\n",
       "      <th>424</th>\n",
       "      <td>2021-07-24</td>\n",
       "      <td>7784.828571</td>\n",
       "      <td>49149.005904</td>\n",
       "    </tr>\n",
       "    <tr>\n",
       "      <th>425</th>\n",
       "      <td>2021-07-25</td>\n",
       "      <td>7779.428571</td>\n",
       "      <td>48810.674380</td>\n",
       "    </tr>\n",
       "    <tr>\n",
       "      <th>426</th>\n",
       "      <td>2021-07-26</td>\n",
       "      <td>7761.780000</td>\n",
       "      <td>47845.314064</td>\n",
       "    </tr>\n",
       "  </tbody>\n",
       "</table>\n",
       "</div>"
      ],
      "text/plain": [
       "           date       energy      enthalpy\n",
       "422  2021-07-22  7904.434286  51036.859402\n",
       "423  2021-07-23  7823.580000  49663.463628\n",
       "424  2021-07-24  7784.828571  49149.005904\n",
       "425  2021-07-25  7779.428571  48810.674380\n",
       "426  2021-07-26  7761.780000  47845.314064"
      ]
     },
     "execution_count": 6,
     "metadata": {},
     "output_type": "execute_result"
    }
   ],
   "source": [
    "test.tail()"
   ]
  },
  {
   "cell_type": "markdown",
   "metadata": {},
   "source": [
    "# Question 1\n",
    "\n",
    "Describe (with pseudocode or real code) how to find an element by value in an unsorted list (i.e. define the \"find\" function for a list, with a list and a value as inputs). The function should return the index of the element found. What should you return if the element is not in the list?\n",
    "For simplicity, you can assume a list of integers."
   ]
  },
  {
   "cell_type": "code",
   "execution_count": 7,
   "metadata": {},
   "outputs": [
    {
     "data": {
      "text/plain": [
       "list"
      ]
     },
     "execution_count": 7,
     "metadata": {},
     "output_type": "execute_result"
    }
   ],
   "source": [
    "unsorted_list = df.energy.to_list()\n",
    "type(unsorted_list)"
   ]
  },
  {
   "cell_type": "code",
   "execution_count": 8,
   "metadata": {},
   "outputs": [],
   "source": [
    "def find_unsorted(unsorted_list, value):\n",
    "    try:\n",
    "        Index = unsorted_list.index(value)\n",
    "        return print(\"Index: \", Index)\n",
    "    except ValueError:\n",
    "        return print(str(value) + \" is not an element of the list\") "
   ]
  },
  {
   "cell_type": "code",
   "execution_count": 9,
   "metadata": {},
   "outputs": [
    {
     "name": "stdout",
     "output_type": "stream",
     "text": [
      "Index:  3\n"
     ]
    }
   ],
   "source": [
    "find_unsorted(unsorted_list, 7072.765714285713)"
   ]
  },
  {
   "cell_type": "code",
   "execution_count": 10,
   "metadata": {},
   "outputs": [
    {
     "name": "stdout",
     "output_type": "stream",
     "text": [
      "1234 is not an element of the list\n"
     ]
    }
   ],
   "source": [
    "find_unsorted(unsorted_list, 1234)"
   ]
  },
  {
   "cell_type": "markdown",
   "metadata": {},
   "source": [
    "# Question 2 (First Approach)\n",
    "\n",
    "How would optimise the \"find\" function of Q1 if the input list is a sorted list?"
   ]
  },
  {
   "cell_type": "code",
   "execution_count": 11,
   "metadata": {},
   "outputs": [],
   "source": [
    "def find_sorted(sorted_list, value):\n",
    "    if value in sorted_list:\n",
    "    \n",
    "        temp = [(v,i) for i,v in enumerate(sorted_list)]\n",
    "        temp.sort()\n",
    "\n",
    "        for i in temp:\n",
    "            if i[0] == value: \n",
    "                return i[1]\n",
    "            else:\n",
    "                continue\n",
    "          \n",
    "    if value not in sorted_list:\n",
    "        return print(str(value) + \" is not an element of the list\") "
   ]
  },
  {
   "cell_type": "code",
   "execution_count": 12,
   "metadata": {},
   "outputs": [
    {
     "data": {
      "text/plain": [
       "1"
      ]
     },
     "execution_count": 12,
     "metadata": {},
     "output_type": "execute_result"
    }
   ],
   "source": [
    "L = [2,3,1,4,5]  # a sorted list\n",
    "find_sorted(L, 3)"
   ]
  },
  {
   "cell_type": "code",
   "execution_count": 13,
   "metadata": {},
   "outputs": [
    {
     "name": "stdout",
     "output_type": "stream",
     "text": [
      "6 is not an element of the list\n"
     ]
    }
   ],
   "source": [
    "find_sorted(L, 6)"
   ]
  },
  {
   "cell_type": "markdown",
   "metadata": {},
   "source": [
    "# Question 2 (Second Approach)"
   ]
  },
  {
   "cell_type": "code",
   "execution_count": 14,
   "metadata": {},
   "outputs": [],
   "source": [
    "def find(name, value):    \n",
    "    if np.size(df[df[name] == value].index.values) == 1:\n",
    "        return df[df[name] == value].index.values[0]\n",
    "    elif np.size(df[df[name] == value].index.values) == 0:\n",
    "        return print(\"No \" + str(name) + \" value has been found!\")"
   ]
  },
  {
   "cell_type": "code",
   "execution_count": 15,
   "metadata": {},
   "outputs": [
    {
     "data": {
      "text/plain": [
       "2"
      ]
     },
     "execution_count": 15,
     "metadata": {},
     "output_type": "execute_result"
    }
   ],
   "source": [
    "find(\"energy\", 7110.120000)"
   ]
  },
  {
   "cell_type": "code",
   "execution_count": 16,
   "metadata": {},
   "outputs": [
    {
     "name": "stdout",
     "output_type": "stream",
     "text": [
      "No energy value has been found!\n"
     ]
    }
   ],
   "source": [
    "find(\"energy\", 1111)"
   ]
  },
  {
   "cell_type": "markdown",
   "metadata": {},
   "source": [
    "# Question 2 (Third Approach)\n",
    "By setting the column \"date\" as index"
   ]
  },
  {
   "cell_type": "code",
   "execution_count": 17,
   "metadata": {},
   "outputs": [
    {
     "data": {
      "text/html": [
       "<div>\n",
       "<style scoped>\n",
       "    .dataframe tbody tr th:only-of-type {\n",
       "        vertical-align: middle;\n",
       "    }\n",
       "\n",
       "    .dataframe tbody tr th {\n",
       "        vertical-align: top;\n",
       "    }\n",
       "\n",
       "    .dataframe thead th {\n",
       "        text-align: right;\n",
       "    }\n",
       "</style>\n",
       "<table border=\"1\" class=\"dataframe\">\n",
       "  <thead>\n",
       "    <tr style=\"text-align: right;\">\n",
       "      <th></th>\n",
       "      <th>energy</th>\n",
       "      <th>enthalpy</th>\n",
       "    </tr>\n",
       "    <tr>\n",
       "      <th>date</th>\n",
       "      <th></th>\n",
       "      <th></th>\n",
       "    </tr>\n",
       "  </thead>\n",
       "  <tbody>\n",
       "    <tr>\n",
       "      <th>2019-02-22</th>\n",
       "      <td>6938.614286</td>\n",
       "      <td>-5851.336089</td>\n",
       "    </tr>\n",
       "    <tr>\n",
       "      <th>2019-02-23</th>\n",
       "      <td>7148.391429</td>\n",
       "      <td>-6441.032345</td>\n",
       "    </tr>\n",
       "    <tr>\n",
       "      <th>2019-02-24</th>\n",
       "      <td>7110.120000</td>\n",
       "      <td>-4349.099258</td>\n",
       "    </tr>\n",
       "    <tr>\n",
       "      <th>2019-02-25</th>\n",
       "      <td>7072.765714</td>\n",
       "      <td>-2372.592647</td>\n",
       "    </tr>\n",
       "    <tr>\n",
       "      <th>2019-02-26</th>\n",
       "      <td>7222.465714</td>\n",
       "      <td>-2360.898917</td>\n",
       "    </tr>\n",
       "  </tbody>\n",
       "</table>\n",
       "</div>"
      ],
      "text/plain": [
       "                 energy     enthalpy\n",
       "date                                \n",
       "2019-02-22  6938.614286 -5851.336089\n",
       "2019-02-23  7148.391429 -6441.032345\n",
       "2019-02-24  7110.120000 -4349.099258\n",
       "2019-02-25  7072.765714 -2372.592647\n",
       "2019-02-26  7222.465714 -2360.898917"
      ]
     },
     "execution_count": 17,
     "metadata": {},
     "output_type": "execute_result"
    }
   ],
   "source": [
    "DirPath = '/Users/oozdal/Documents/hdenergy/datascience_test'\n",
    "df = pd.read_csv(DirPath + '/' + 'data.csv', header=0, sep=\",\")\n",
    "df.set_index(\"date\", inplace = True)\n",
    "df.head()"
   ]
  },
  {
   "cell_type": "code",
   "execution_count": 18,
   "metadata": {},
   "outputs": [
    {
     "data": {
      "text/plain": [
       "'2019-02-24'"
      ]
     },
     "execution_count": 18,
     "metadata": {},
     "output_type": "execute_result"
    }
   ],
   "source": [
    "find(\"energy\", 7110.120000)"
   ]
  },
  {
   "cell_type": "code",
   "execution_count": 19,
   "metadata": {},
   "outputs": [
    {
     "name": "stdout",
     "output_type": "stream",
     "text": [
      "No enthalpy value has been found!\n"
     ]
    }
   ],
   "source": [
    "find(\"enthalpy\", 1111)"
   ]
  },
  {
   "cell_type": "markdown",
   "metadata": {},
   "source": [
    "# Question 3\n",
    "\n",
    "The `train_data.csv` contains energy consumption data of some store for some given days in the past where the store was working at an acceptable level of energy consumption (every day in the train_data can be considered good data, i.e. the store was working at an acceptable level).\n",
    "\n",
    "The date, energy and enthalpy variables are given. A relationship between enthalpy (average daily outside air enthalpy) and energy (the total store energy consumption) exists (enthalpy is the independent variable, and energy is the dependent variable).\n",
    "\n",
    "Create a machine learning model that would determine days where the store is not working optimally. Use the model to determine which days in the `test_data.csv` were at an acceptable level of energy consumption, and which days were not (energy consumption is too high).\n",
    "\n",
    "Explain the method chosen, and why it was chosen. If you made any assumptions, describe them also. You can supply graphs and other visual aids to help explain your solution. Provide all the code as well.\n",
    "\n",
    "For convenience, `data.csv` contains all data (both the train and the test data) and can be used if needed."
   ]
  },
  {
   "cell_type": "code",
   "execution_count": 20,
   "metadata": {},
   "outputs": [],
   "source": [
    "def uncertainty_mean(data):\n",
    "    #calculate standard error of the mean \n",
    "    return np.std(data, ddof=1) / np.sqrt(np.size(data))"
   ]
  },
  {
   "cell_type": "code",
   "execution_count": 21,
   "metadata": {},
   "outputs": [
    {
     "name": "stdout",
     "output_type": "stream",
     "text": [
      "Energy Mean: 7276.46\n",
      "Energy Standard Deviation: 488.98\n",
      "Energy Standard Error of the Mean: 16.44\n",
      "\n",
      "\n",
      "##############################################\n",
      "\n",
      "\n",
      "Enthalpy Mean: 22800.36\n",
      "Enthalpy Standard Deviation: 20463.25\n",
      "Enthalpy Standard Error of the Mean: 687.86\n"
     ]
    }
   ],
   "source": [
    "# Let's start with some statistics\n",
    "\n",
    "# Energy\n",
    "print(\"Energy Mean:\", \"{:.2f}\".format(np.mean(df.energy)))\n",
    "print(\"Energy Standard Deviation:\", \"{:.2f}\".format(np.std(df.energy)))\n",
    "print(\"Energy Standard Error of the Mean:\", \"{:.2f}\".format(uncertainty_mean(df.energy)))\n",
    "\n",
    "print(\"\\n\")\n",
    "print(\"##############################################\")\n",
    "print(\"\\n\")\n",
    "\n",
    "# Enthalpy\n",
    "print(\"Enthalpy Mean:\", \"{:.2f}\".format(np.mean(df.enthalpy)))\n",
    "print(\"Enthalpy Standard Deviation:\", \"{:.2f}\".format(np.std(df.enthalpy)))\n",
    "print(\"Enthalpy Standard Error of the Mean:\", \"{:.2f}\".format(uncertainty_mean(df.enthalpy)))"
   ]
  },
  {
   "cell_type": "markdown",
   "metadata": {},
   "source": [
    "# Enthalpy vs energy plot (train and test data in same plot)"
   ]
  },
  {
   "cell_type": "code",
   "execution_count": 22,
   "metadata": {},
   "outputs": [
    {
     "data": {
      "text/plain": [
       "<matplotlib.legend.Legend at 0x7f8ef7b36850>"
      ]
     },
     "execution_count": 22,
     "metadata": {},
     "output_type": "execute_result"
    },
    {
     "data": {
      "image/png": "[encoded data removed]",
      "text/plain": [
       "<Figure size 720x576 with 1 Axes>"
      ]
     },
     "metadata": {},
     "output_type": "display_data"
    }
   ],
   "source": [
    "fig, ax1 = plt.subplots(figsize=(10,8))\n",
    "fig.set_facecolor('white')\n",
    "ax1.scatter(train.enthalpy, train.energy, c=\"tab:blue\", zorder=50,label=\"train\", linestyle='solid')\n",
    "ax1.scatter(test.enthalpy, test.energy, c=\"orange\", zorder=50,label=\"test\", linestyle='solid')\n",
    "plt.xlabel(\"Enthalpy\", fontsize=20)\n",
    "plt.ylabel(\"Energy\", fontsize=20)\n",
    "plt.legend(loc='best',frameon=True, prop={'size': 12})"
   ]
  },
  {
   "cell_type": "markdown",
   "metadata": {},
   "source": [
    "# Fitting to train data in order to distinguish between \"optimal\" and \"non-optimal\" days"
   ]
  },
  {
   "cell_type": "code",
   "execution_count": 23,
   "metadata": {},
   "outputs": [],
   "source": [
    "# define the true objective function\n",
    "def objective(x, a, b, c, d, e, f):\n",
    "    return (a * x) + (b * x**2) + (c * x**3) + (d * x**4) + (e * x**5) + f"
   ]
  },
  {
   "cell_type": "code",
   "execution_count": 24,
   "metadata": {},
   "outputs": [
    {
     "data": {
      "text/plain": [
       "<matplotlib.legend.Legend at 0x7f8ef7f33f40>"
      ]
     },
     "execution_count": 24,
     "metadata": {},
     "output_type": "execute_result"
    },
    {
     "data": {
      "image/png": "[encoded data removed]",
      "text/plain": [
       "<Figure size 720x576 with 1 Axes>"
      ]
     },
     "metadata": {},
     "output_type": "display_data"
    }
   ],
   "source": [
    "from scipy.optimize import curve_fit\n",
    "from numpy import arange\n",
    "\n",
    "# curve fit\n",
    "popt, _ = curve_fit(objective, train.enthalpy, train.energy)\n",
    "# summarize the parameter values\n",
    "a, b, c, d, e, f = popt\n",
    "\n",
    "fig, ax1 = plt.subplots(figsize=(10,8))\n",
    "fig.set_facecolor('white')\n",
    "ax1.scatter(train.enthalpy, train.energy, c=\"tab:blue\", zorder=10,label=\"Train data\", linestyle='solid')\n",
    "ax1.scatter(test.enthalpy, test.energy, c=\"orange\", zorder=20,label=\"Test data\", linestyle='solid')\n",
    "\n",
    "# define a sequence of inputs between the smallest and largest known inputs\n",
    "x_line = arange(min(train.enthalpy), max(train.enthalpy), 1)\n",
    "# calculate the output for the range\n",
    "y_line = objective(x_line, a, b, c, d, e, f)\n",
    "# create a line plot for the mapping function\n",
    "plt.plot(x_line, y_line, '--', color='red', zorder=30, label = \"Fitted\")\n",
    "\n",
    "# Boundaries using the standard deviation\n",
    "plt.plot(x_line, y_line + 0.9 * train.energy.std(), '--', color='green', zorder=30, label = \"Upper Bound 0.9 sigma\") # Upper bound 0.9 sigma\n",
    "plt.plot(x_line, y_line - 0.9 * train.energy.std(), linestyle = \"dotted\", color='green', zorder=30, label = \"Lower Bound 0.9 sigma\") # Lower bound 0.9 sigma\n",
    "\n",
    "ax1.fill_between(x_line, y_line + 0.9 * train.energy.std(), 9000,\n",
    "                facecolor = 'gold', interpolate=True, alpha=.2, linewidth=0.0, zorder=5)\n",
    "\n",
    "ax1.fill_between(x_line, y_line - 0.9 * train.energy.std(), 6000,\n",
    "                facecolor = 'gold', interpolate=True, alpha=.2, linewidth=0.0, zorder=5)\n",
    "\n",
    "ax1.set_ylim( [6000, 8700] ) \n",
    "plt.xlabel(\"Enthalpy\", fontsize=20)\n",
    "plt.ylabel(\"Energy\", fontsize=20)\n",
    "plt.legend(loc='best',frameon=True, prop={'size': 12})"
   ]
  },
  {
   "cell_type": "markdown",
   "metadata": {},
   "source": [
    "# Finding the days where the store is not working optimally (First Approach: Without Machine Learning)"
   ]
  },
  {
   "cell_type": "code",
   "execution_count": 25,
   "metadata": {},
   "outputs": [],
   "source": [
    "def Closest(list, Number):\n",
    "    aux = []\n",
    "    for valor in list:\n",
    "        aux.append(abs(Number-valor))\n",
    "    return aux.index(min(aux)) "
   ]
  },
  {
   "cell_type": "code",
   "execution_count": 26,
   "metadata": {},
   "outputs": [],
   "source": [
    "train.reset_index(inplace = True)\n",
    "test.reset_index(inplace = True)"
   ]
  },
  {
   "cell_type": "code",
   "execution_count": 27,
   "metadata": {},
   "outputs": [],
   "source": [
    "nearest_yline = []\n",
    "list_optimum = []\n",
    "\n",
    "for index in test.index:\n",
    "    nearest_yline.append(y_line[Closest(x_line, test[\"enthalpy\"][index])])\n",
    "    \n",
    "    if test[\"energy\"][index] < nearest_yline[index] + 0.9 * train.energy.std() and test[\"energy\"][index] > nearest_yline[index] - 0.9 * train.energy.std(): \n",
    "        list_optimum.append(1)\n",
    "    else:\n",
    "        list_optimum.append(-1)\n",
    "        \n",
    "test[\"optimal\"] = list_optimum        "
   ]
  },
  {
   "cell_type": "code",
   "execution_count": 28,
   "metadata": {},
   "outputs": [],
   "source": [
    "optimal_df = test[test[\"optimal\"] == 1]\n",
    "non_optimal_df = test[test[\"optimal\"] == -1]"
   ]
  },
  {
   "cell_type": "code",
   "execution_count": 29,
   "metadata": {},
   "outputs": [
    {
     "data": {
      "text/html": [
       "<div>\n",
       "<style scoped>\n",
       "    .dataframe tbody tr th:only-of-type {\n",
       "        vertical-align: middle;\n",
       "    }\n",
       "\n",
       "    .dataframe tbody tr th {\n",
       "        vertical-align: top;\n",
       "    }\n",
       "\n",
       "    .dataframe thead th {\n",
       "        text-align: right;\n",
       "    }\n",
       "</style>\n",
       "<table border=\"1\" class=\"dataframe\">\n",
       "  <thead>\n",
       "    <tr style=\"text-align: right;\">\n",
       "      <th></th>\n",
       "      <th>index</th>\n",
       "      <th>date</th>\n",
       "      <th>energy</th>\n",
       "      <th>enthalpy</th>\n",
       "      <th>optimal</th>\n",
       "    </tr>\n",
       "  </thead>\n",
       "  <tbody>\n",
       "    <tr>\n",
       "      <th>0</th>\n",
       "      <td>0</td>\n",
       "      <td>2019-02-22</td>\n",
       "      <td>6938.614286</td>\n",
       "      <td>-5851.336089</td>\n",
       "      <td>1</td>\n",
       "    </tr>\n",
       "    <tr>\n",
       "      <th>1</th>\n",
       "      <td>1</td>\n",
       "      <td>2019-02-23</td>\n",
       "      <td>7148.391429</td>\n",
       "      <td>-6441.032345</td>\n",
       "      <td>1</td>\n",
       "    </tr>\n",
       "    <tr>\n",
       "      <th>2</th>\n",
       "      <td>2</td>\n",
       "      <td>2019-02-24</td>\n",
       "      <td>7110.120000</td>\n",
       "      <td>-4349.099258</td>\n",
       "      <td>1</td>\n",
       "    </tr>\n",
       "    <tr>\n",
       "      <th>3</th>\n",
       "      <td>3</td>\n",
       "      <td>2019-02-25</td>\n",
       "      <td>7072.765714</td>\n",
       "      <td>-2372.592647</td>\n",
       "      <td>1</td>\n",
       "    </tr>\n",
       "    <tr>\n",
       "      <th>4</th>\n",
       "      <td>4</td>\n",
       "      <td>2019-02-26</td>\n",
       "      <td>7222.465714</td>\n",
       "      <td>-2360.898917</td>\n",
       "      <td>1</td>\n",
       "    </tr>\n",
       "  </tbody>\n",
       "</table>\n",
       "</div>"
      ],
      "text/plain": [
       "   index        date       energy     enthalpy  optimal\n",
       "0      0  2019-02-22  6938.614286 -5851.336089        1\n",
       "1      1  2019-02-23  7148.391429 -6441.032345        1\n",
       "2      2  2019-02-24  7110.120000 -4349.099258        1\n",
       "3      3  2019-02-25  7072.765714 -2372.592647        1\n",
       "4      4  2019-02-26  7222.465714 -2360.898917        1"
      ]
     },
     "execution_count": 29,
     "metadata": {},
     "output_type": "execute_result"
    }
   ],
   "source": [
    "optimal_df.head()"
   ]
  },
  {
   "cell_type": "code",
   "execution_count": 30,
   "metadata": {},
   "outputs": [
    {
     "data": {
      "text/html": [
       "<div>\n",
       "<style scoped>\n",
       "    .dataframe tbody tr th:only-of-type {\n",
       "        vertical-align: middle;\n",
       "    }\n",
       "\n",
       "    .dataframe tbody tr th {\n",
       "        vertical-align: top;\n",
       "    }\n",
       "\n",
       "    .dataframe thead th {\n",
       "        text-align: right;\n",
       "    }\n",
       "</style>\n",
       "<table border=\"1\" class=\"dataframe\">\n",
       "  <thead>\n",
       "    <tr style=\"text-align: right;\">\n",
       "      <th></th>\n",
       "      <th>index</th>\n",
       "      <th>date</th>\n",
       "      <th>energy</th>\n",
       "      <th>enthalpy</th>\n",
       "      <th>optimal</th>\n",
       "    </tr>\n",
       "  </thead>\n",
       "  <tbody>\n",
       "    <tr>\n",
       "      <th>11</th>\n",
       "      <td>11</td>\n",
       "      <td>2019-03-05</td>\n",
       "      <td>6879.857143</td>\n",
       "      <td>-7477.668587</td>\n",
       "      <td>-1</td>\n",
       "    </tr>\n",
       "    <tr>\n",
       "      <th>12</th>\n",
       "      <td>12</td>\n",
       "      <td>2019-03-06</td>\n",
       "      <td>6894.814286</td>\n",
       "      <td>-6394.370594</td>\n",
       "      <td>-1</td>\n",
       "    </tr>\n",
       "    <tr>\n",
       "      <th>13</th>\n",
       "      <td>13</td>\n",
       "      <td>2019-03-07</td>\n",
       "      <td>6849.994286</td>\n",
       "      <td>-6336.514258</td>\n",
       "      <td>-1</td>\n",
       "    </tr>\n",
       "    <tr>\n",
       "      <th>14</th>\n",
       "      <td>14</td>\n",
       "      <td>2019-03-08</td>\n",
       "      <td>6850.337143</td>\n",
       "      <td>-5993.446766</td>\n",
       "      <td>-1</td>\n",
       "    </tr>\n",
       "    <tr>\n",
       "      <th>15</th>\n",
       "      <td>15</td>\n",
       "      <td>2019-03-09</td>\n",
       "      <td>6837.265714</td>\n",
       "      <td>-5509.860467</td>\n",
       "      <td>-1</td>\n",
       "    </tr>\n",
       "  </tbody>\n",
       "</table>\n",
       "</div>"
      ],
      "text/plain": [
       "    index        date       energy     enthalpy  optimal\n",
       "11     11  2019-03-05  6879.857143 -7477.668587       -1\n",
       "12     12  2019-03-06  6894.814286 -6394.370594       -1\n",
       "13     13  2019-03-07  6849.994286 -6336.514258       -1\n",
       "14     14  2019-03-08  6850.337143 -5993.446766       -1\n",
       "15     15  2019-03-09  6837.265714 -5509.860467       -1"
      ]
     },
     "execution_count": 30,
     "metadata": {},
     "output_type": "execute_result"
    }
   ],
   "source": [
    "non_optimal_df.head()"
   ]
  },
  {
   "cell_type": "code",
   "execution_count": 31,
   "metadata": {},
   "outputs": [
    {
     "data": {
      "text/plain": [
       "<matplotlib.legend.Legend at 0x7f8ef84e4d90>"
      ]
     },
     "execution_count": 31,
     "metadata": {},
     "output_type": "execute_result"
    },
    {
     "data": {
      "image/png": "[encoded data removed]",
      "text/plain": [
       "<Figure size 720x576 with 1 Axes>"
      ]
     },
     "metadata": {},
     "output_type": "display_data"
    }
   ],
   "source": [
    "fig, ax1 = plt.subplots(figsize=(10,8))\n",
    "fig.set_facecolor('white')\n",
    "\n",
    "ax1.scatter(optimal_df.enthalpy, optimal_df.energy, c=\"tab:green\", zorder=9,label=\"optimal days in test data\", linestyle='solid')\n",
    "ax1.scatter(non_optimal_df.enthalpy, non_optimal_df.energy, c=\"tab:red\", zorder=10,label=\"non-optimal days in test data\", linestyle='solid')\n",
    "\n",
    "# define a sequence of inputs between the smallest and largest known inputs\n",
    "x_line = arange(min(train.enthalpy), max(train.enthalpy), 1)\n",
    "# calculate the output for the range\n",
    "y_line = objective(x_line, a, b, c, d, e, f)\n",
    "# create a line plot for the mapping function\n",
    "plt.plot(x_line, y_line, '--', color='red', zorder=30, label = \"Fitted\")\n",
    "\n",
    "# Boundaries using the standard deviation\n",
    "plt.plot(x_line, y_line + 0.9 * train.energy.std(), '--', color='green', zorder=30, label = \"Upper Bound 0.9 sigma\") # Upper bound 0.9 sigma\n",
    "plt.plot(x_line, y_line - 0.9 * train.energy.std(), linestyle = \"dotted\", color='green', zorder=30, label = \"Lower Bound 0.9 sigma\") # Lower bound 0.9 sigma\n",
    "\n",
    "ax1.fill_between(x_line, y_line + 0.9 * train.energy.std(), 9000,\n",
    "                facecolor = 'gold', interpolate=True, alpha=.2, linewidth=0.0, zorder=5)\n",
    "\n",
    "ax1.fill_between(x_line, y_line - 0.9 * train.energy.std(), 6000,\n",
    "                facecolor = 'gold', interpolate=True, alpha=.2, linewidth=0.0, zorder=5)\n",
    "\n",
    "ax1.set_ylim( [6000, 8700] ) \n",
    "plt.xlabel(\"Enthalpy\", fontsize=20)\n",
    "plt.ylabel(\"Energy\", fontsize=20)\n",
    "plt.legend(loc='best',frameon=True, prop={'size': 12})"
   ]
  },
  {
   "cell_type": "markdown",
   "metadata": {},
   "source": [
    "# Second Approach: Using ML\n",
    "# Data preparation"
   ]
  },
  {
   "cell_type": "code",
   "execution_count": 32,
   "metadata": {},
   "outputs": [
    {
     "data": {
      "text/html": [
       "<div>\n",
       "<style scoped>\n",
       "    .dataframe tbody tr th:only-of-type {\n",
       "        vertical-align: middle;\n",
       "    }\n",
       "\n",
       "    .dataframe tbody tr th {\n",
       "        vertical-align: top;\n",
       "    }\n",
       "\n",
       "    .dataframe thead th {\n",
       "        text-align: right;\n",
       "    }\n",
       "</style>\n",
       "<table border=\"1\" class=\"dataframe\">\n",
       "  <thead>\n",
       "    <tr style=\"text-align: right;\">\n",
       "      <th></th>\n",
       "      <th>index</th>\n",
       "      <th>date</th>\n",
       "      <th>energy</th>\n",
       "      <th>enthalpy</th>\n",
       "      <th>optimal</th>\n",
       "    </tr>\n",
       "  </thead>\n",
       "  <tbody>\n",
       "    <tr>\n",
       "      <th>454</th>\n",
       "      <td>454</td>\n",
       "      <td>2020-08-29</td>\n",
       "      <td>7053.522857</td>\n",
       "      <td>44161.951798</td>\n",
       "      <td>1</td>\n",
       "    </tr>\n",
       "    <tr>\n",
       "      <th>455</th>\n",
       "      <td>455</td>\n",
       "      <td>2020-08-30</td>\n",
       "      <td>6962.922857</td>\n",
       "      <td>41809.277348</td>\n",
       "      <td>1</td>\n",
       "    </tr>\n",
       "    <tr>\n",
       "      <th>456</th>\n",
       "      <td>456</td>\n",
       "      <td>2020-08-31</td>\n",
       "      <td>6762.042857</td>\n",
       "      <td>38882.500190</td>\n",
       "      <td>1</td>\n",
       "    </tr>\n",
       "    <tr>\n",
       "      <th>457</th>\n",
       "      <td>457</td>\n",
       "      <td>2020-09-01</td>\n",
       "      <td>6606.548571</td>\n",
       "      <td>37245.478768</td>\n",
       "      <td>1</td>\n",
       "    </tr>\n",
       "    <tr>\n",
       "      <th>458</th>\n",
       "      <td>458</td>\n",
       "      <td>2020-09-02</td>\n",
       "      <td>6761.845714</td>\n",
       "      <td>40420.074528</td>\n",
       "      <td>1</td>\n",
       "    </tr>\n",
       "  </tbody>\n",
       "</table>\n",
       "</div>"
      ],
      "text/plain": [
       "     index        date       energy      enthalpy  optimal\n",
       "454    454  2020-08-29  7053.522857  44161.951798        1\n",
       "455    455  2020-08-30  6962.922857  41809.277348        1\n",
       "456    456  2020-08-31  6762.042857  38882.500190        1\n",
       "457    457  2020-09-01  6606.548571  37245.478768        1\n",
       "458    458  2020-09-02  6761.845714  40420.074528        1"
      ]
     },
     "execution_count": 32,
     "metadata": {},
     "output_type": "execute_result"
    }
   ],
   "source": [
    "train[\"optimal\"] = 1\n",
    "train.tail()"
   ]
  },
  {
   "cell_type": "code",
   "execution_count": 33,
   "metadata": {},
   "outputs": [
    {
     "data": {
      "text/html": [
       "<div>\n",
       "<style scoped>\n",
       "    .dataframe tbody tr th:only-of-type {\n",
       "        vertical-align: middle;\n",
       "    }\n",
       "\n",
       "    .dataframe tbody tr th {\n",
       "        vertical-align: top;\n",
       "    }\n",
       "\n",
       "    .dataframe thead th {\n",
       "        text-align: right;\n",
       "    }\n",
       "</style>\n",
       "<table border=\"1\" class=\"dataframe\">\n",
       "  <thead>\n",
       "    <tr style=\"text-align: right;\">\n",
       "      <th></th>\n",
       "      <th>index</th>\n",
       "      <th>date</th>\n",
       "      <th>energy</th>\n",
       "      <th>enthalpy</th>\n",
       "      <th>optimal</th>\n",
       "    </tr>\n",
       "  </thead>\n",
       "  <tbody>\n",
       "    <tr>\n",
       "      <th>422</th>\n",
       "      <td>422</td>\n",
       "      <td>2021-07-22</td>\n",
       "      <td>7904.434286</td>\n",
       "      <td>51036.859402</td>\n",
       "      <td>-1</td>\n",
       "    </tr>\n",
       "    <tr>\n",
       "      <th>423</th>\n",
       "      <td>423</td>\n",
       "      <td>2021-07-23</td>\n",
       "      <td>7823.580000</td>\n",
       "      <td>49663.463628</td>\n",
       "      <td>-1</td>\n",
       "    </tr>\n",
       "    <tr>\n",
       "      <th>424</th>\n",
       "      <td>424</td>\n",
       "      <td>2021-07-24</td>\n",
       "      <td>7784.828571</td>\n",
       "      <td>49149.005904</td>\n",
       "      <td>-1</td>\n",
       "    </tr>\n",
       "    <tr>\n",
       "      <th>425</th>\n",
       "      <td>425</td>\n",
       "      <td>2021-07-25</td>\n",
       "      <td>7779.428571</td>\n",
       "      <td>48810.674380</td>\n",
       "      <td>-1</td>\n",
       "    </tr>\n",
       "    <tr>\n",
       "      <th>426</th>\n",
       "      <td>426</td>\n",
       "      <td>2021-07-26</td>\n",
       "      <td>7761.780000</td>\n",
       "      <td>47845.314064</td>\n",
       "      <td>-1</td>\n",
       "    </tr>\n",
       "  </tbody>\n",
       "</table>\n",
       "</div>"
      ],
      "text/plain": [
       "     index        date       energy      enthalpy  optimal\n",
       "422    422  2021-07-22  7904.434286  51036.859402       -1\n",
       "423    423  2021-07-23  7823.580000  49663.463628       -1\n",
       "424    424  2021-07-24  7784.828571  49149.005904       -1\n",
       "425    425  2021-07-25  7779.428571  48810.674380       -1\n",
       "426    426  2021-07-26  7761.780000  47845.314064       -1"
      ]
     },
     "execution_count": 33,
     "metadata": {},
     "output_type": "execute_result"
    }
   ],
   "source": [
    "test.tail()"
   ]
  },
  {
   "cell_type": "code",
   "execution_count": 34,
   "metadata": {},
   "outputs": [
    {
     "data": {
      "text/html": [
       "<div>\n",
       "<style scoped>\n",
       "    .dataframe tbody tr th:only-of-type {\n",
       "        vertical-align: middle;\n",
       "    }\n",
       "\n",
       "    .dataframe tbody tr th {\n",
       "        vertical-align: top;\n",
       "    }\n",
       "\n",
       "    .dataframe thead th {\n",
       "        text-align: right;\n",
       "    }\n",
       "</style>\n",
       "<table border=\"1\" class=\"dataframe\">\n",
       "  <thead>\n",
       "    <tr style=\"text-align: right;\">\n",
       "      <th></th>\n",
       "      <th>index</th>\n",
       "      <th>energy</th>\n",
       "      <th>enthalpy</th>\n",
       "      <th>optimal</th>\n",
       "    </tr>\n",
       "    <tr>\n",
       "      <th>date</th>\n",
       "      <th></th>\n",
       "      <th></th>\n",
       "      <th></th>\n",
       "      <th></th>\n",
       "    </tr>\n",
       "  </thead>\n",
       "  <tbody>\n",
       "    <tr>\n",
       "      <th>2021-07-22</th>\n",
       "      <td>422</td>\n",
       "      <td>7904.434286</td>\n",
       "      <td>51036.859402</td>\n",
       "      <td>-1</td>\n",
       "    </tr>\n",
       "    <tr>\n",
       "      <th>2021-07-23</th>\n",
       "      <td>423</td>\n",
       "      <td>7823.580000</td>\n",
       "      <td>49663.463628</td>\n",
       "      <td>-1</td>\n",
       "    </tr>\n",
       "    <tr>\n",
       "      <th>2021-07-24</th>\n",
       "      <td>424</td>\n",
       "      <td>7784.828571</td>\n",
       "      <td>49149.005904</td>\n",
       "      <td>-1</td>\n",
       "    </tr>\n",
       "    <tr>\n",
       "      <th>2021-07-25</th>\n",
       "      <td>425</td>\n",
       "      <td>7779.428571</td>\n",
       "      <td>48810.674380</td>\n",
       "      <td>-1</td>\n",
       "    </tr>\n",
       "    <tr>\n",
       "      <th>2021-07-26</th>\n",
       "      <td>426</td>\n",
       "      <td>7761.780000</td>\n",
       "      <td>47845.314064</td>\n",
       "      <td>-1</td>\n",
       "    </tr>\n",
       "  </tbody>\n",
       "</table>\n",
       "</div>"
      ],
      "text/plain": [
       "            index       energy      enthalpy  optimal\n",
       "date                                                 \n",
       "2021-07-22    422  7904.434286  51036.859402       -1\n",
       "2021-07-23    423  7823.580000  49663.463628       -1\n",
       "2021-07-24    424  7784.828571  49149.005904       -1\n",
       "2021-07-25    425  7779.428571  48810.674380       -1\n",
       "2021-07-26    426  7761.780000  47845.314064       -1"
      ]
     },
     "execution_count": 34,
     "metadata": {},
     "output_type": "execute_result"
    }
   ],
   "source": [
    "df = pd.concat([train, test], axis=0, ignore_index=True)\n",
    "df.set_index(\"date\", inplace=True)\n",
    "df.tail()"
   ]
  },
  {
   "cell_type": "markdown",
   "metadata": {},
   "source": [
    "# Logistic regression implementation"
   ]
  },
  {
   "cell_type": "code",
   "execution_count": 42,
   "metadata": {},
   "outputs": [
    {
     "name": "stdout",
     "output_type": "stream",
     "text": [
      "Accuracy of the model: 0.67\n",
      "Confusion Matrix: \n",
      " [[  9   8]\n",
      " [ 50 111]]\n",
      "Days where the store is not working optimally: \n",
      "2021-01-29\n",
      "2020-01-21\n",
      "2021-01-24\n",
      "2021-01-28\n",
      "2020-01-23\n",
      "2020-02-21\n",
      "2021-03-07\n",
      "2019-12-23\n",
      "2021-02-05\n",
      "2021-02-11\n",
      "2020-02-18\n",
      "2020-02-14\n",
      "2021-02-03\n",
      "2019-03-08\n",
      "2019-03-07\n",
      "2019-02-22\n",
      "2020-01-24\n"
     ]
    },
    {
     "data": {
      "image/png": "[encoded data removed]",
      "text/plain": [
       "<Figure size 864x576 with 1 Axes>"
      ]
     },
     "metadata": {
      "needs_background": "light"
     },
     "output_type": "display_data"
    }
   ],
   "source": [
    "from sklearn.linear_model import LogisticRegression\n",
    "import sklearn.metrics as metrics\n",
    "\n",
    "if __name__ == '__main__':\n",
    "    \n",
    "    # features and the labels (target variables)\n",
    "    X = df[[\"energy\", \"enthalpy\"]]\n",
    "    y = df[\"optimal\"]\n",
    "                \n",
    "    # split the data into training and test data (70% -  20%)\n",
    "    X_train, X_test, y_train, y_test = train_test_split(X, y, test_size=0.2)                \n",
    "    \n",
    "    # training the model on the training set\n",
    "    log_reg = LogisticRegression()\n",
    "    log_reg.fit(X_train, y_train)\n",
    "\n",
    "    # test the model on the test set\n",
    "    predictions = log_reg.predict(X_test)\n",
    "    \n",
    "    print('Accuracy of the model: %.2f' % accuracy_score(y_test, predictions))\n",
    "    print('Confusion Matrix: \\n', confusion_matrix(predictions, y_test))\n",
    "    \n",
    "    temp_df = pd.DataFrame({'y_test':y_test, 'predictions':predictions})\n",
    "    non_optimal_df = temp_df[temp_df[\"predictions\"] == -1]\n",
    "\n",
    "    print(\"Days where the store is not working optimally: \")\n",
    "    for index in non_optimal_df.index:\n",
    "        print(index)\n",
    "        \n",
    "    metrics.plot_roc_curve(log_reg, X_test, y_test)     "
   ]
  },
  {
   "cell_type": "markdown",
   "metadata": {},
   "source": [
    "# Support Vector Machines"
   ]
  },
  {
   "cell_type": "code",
   "execution_count": 43,
   "metadata": {},
   "outputs": [
    {
     "name": "stdout",
     "output_type": "stream",
     "text": [
      "We have found the best parameters...\n",
      "0.7030075187969925\n",
      "{'C': 1, 'gamma': 0.001}\n",
      "Days where the store is not working optimally\n",
      "2021-01-03\n",
      "2020-12-29\n",
      "2021-02-18\n",
      "2021-06-23\n"
     ]
    },
    {
     "data": {
      "image/png": "[encoded data removed]",
      "text/plain": [
       "<Figure size 864x576 with 1 Axes>"
      ]
     },
     "metadata": {
      "needs_background": "light"
     },
     "output_type": "display_data"
    }
   ],
   "source": [
    "from sklearn.svm import SVC\n",
    "\n",
    "if __name__ == '__main__':\n",
    "    \n",
    "    # features and the labels (target variables)\n",
    "    X = df[[\"energy\", \"enthalpy\"]]\n",
    "    y = df[\"optimal\"]\n",
    "    \n",
    "    # split the data into training and test set (80%-20%)\n",
    "    X_train, X_test, y_train, y_test = train_test_split(X, y, test_size = 0.3)\n",
    "    \n",
    "    # model - we can find the right coefficients\n",
    "    parameters = {'gamma': [10, 1, 0.1, 0.01, 0.001], 'C': [1, 10, 100, 1000, 10000]}\n",
    "    grid = list(ParameterGrid(parameters))\n",
    "    \n",
    "    best_accuracy = 0\n",
    "    best_parameters = None\n",
    "    \n",
    "    for p in grid:\n",
    "        model_svm = SVC(C=p['C'], gamma=p['gamma'])\n",
    "        model_svm.fit(X_train, y_train)\n",
    "        predictions = model_svm.predict(X_test)\n",
    "        accuracy = accuracy_score(y_test, predictions)\n",
    "                \n",
    "        #print('Accuracy of the model: %.4f' % accuracy)\n",
    "        y_score = model_svm.fit(X_train, y_train).decision_function(X_test)\n",
    "        \n",
    "        if accuracy > best_accuracy:\n",
    "            best_accuracy  = accuracy\n",
    "            best_parameter = p\n",
    "           \n",
    "    print('We have found the best parameters...')\n",
    "    print(best_accuracy)\n",
    "    print(best_parameter)\n",
    "    \n",
    "    temp_df = pd.DataFrame({'y_test':y_test, 'predictions':predictions})\n",
    "    non_optimal_df = temp_df[temp_df[\"predictions\"] == -1]\n",
    "\n",
    "    print(\"Days where the store is not working optimally\")\n",
    "    for index in non_optimal_df.index:\n",
    "        print(index)\n",
    "        \n",
    "    metrics.plot_roc_curve(model_svm, X_test, y_test)    "
   ]
  },
  {
   "cell_type": "markdown",
   "metadata": {},
   "source": [
    "# Naive Bayes Model"
   ]
  },
  {
   "cell_type": "code",
   "execution_count": 44,
   "metadata": {},
   "outputs": [
    {
     "name": "stdout",
     "output_type": "stream",
     "text": [
      "Accuracy: 0.8345864661654135\n",
      "Days where the store is not working optimally\n",
      "2021-01-15\n",
      "2021-01-01\n",
      "2021-01-05\n",
      "2020-11-22\n",
      "2021-03-23\n",
      "2020-12-11\n",
      "2021-02-27\n",
      "2021-04-05\n",
      "2021-03-08\n",
      "2021-03-19\n",
      "2021-04-02\n",
      "2020-11-25\n",
      "2021-03-11\n",
      "2021-03-09\n",
      "2021-02-18\n",
      "2020-02-21\n",
      "2021-01-29\n",
      "2021-03-01\n",
      "2021-02-09\n",
      "2021-03-12\n",
      "2020-02-12\n",
      "2021-03-07\n",
      "2021-01-31\n",
      "2021-02-12\n",
      "2021-01-11\n",
      "2021-01-10\n",
      "2021-01-22\n",
      "2021-04-23\n",
      "2021-01-06\n",
      "2020-11-16\n",
      "2021-04-24\n",
      "2021-02-28\n",
      "2021-01-18\n",
      "2021-01-08\n",
      "2020-11-17\n",
      "2020-11-23\n",
      "2020-12-23\n",
      "2020-12-22\n",
      "2020-12-25\n"
     ]
    },
    {
     "data": {
      "image/png": "[encoded data removed]",
      "text/plain": [
       "<Figure size 864x576 with 1 Axes>"
      ]
     },
     "metadata": {
      "needs_background": "light"
     },
     "output_type": "display_data"
    }
   ],
   "source": [
    "from sklearn.naive_bayes import GaussianNB #Import Gaussian Naive Bayes model\n",
    "from sklearn import metrics #Import scikit-learn metrics module for accuracy calculation\n",
    "\n",
    "if __name__ == '__main__':\n",
    "    \n",
    "    # features and the labels (target variables)\n",
    "    X = df[[\"energy\", \"enthalpy\"]]\n",
    "    y = df[\"optimal\"]\n",
    "    \n",
    "    # split the data into training and test set (80%-20%)\n",
    "    X_train, X_test, y_train, y_test = train_test_split(X, y, test_size = 0.3)    \n",
    "\n",
    "    #Create a Gaussian Classifier\n",
    "    gnb = GaussianNB()\n",
    "\n",
    "    #Train the model using the training sets\n",
    "    gnb.fit(X_train, y_train)\n",
    "\n",
    "    #Predict the response for test dataset\n",
    "    y_pred = gnb.predict(X_test)\n",
    "    \n",
    "    print(\"Accuracy:\", metrics.accuracy_score(y_test, y_pred))\n",
    "    \n",
    "    temp_df = pd.DataFrame({'y_test':y_test, 'y_pred':y_pred})\n",
    "    non_optimal_df = temp_df[temp_df[\"y_pred\"] == -1]\n",
    "\n",
    "    print(\"Days where the store is not working optimally\")\n",
    "    for index in non_optimal_df.index:\n",
    "        print(index)\n",
    "        \n",
    "    metrics.plot_roc_curve(gnb, X_test, y_test) "
   ]
  },
  {
   "cell_type": "code",
   "execution_count": 66,
   "metadata": {},
   "outputs": [
    {
     "data": {
      "image/png": "[encoded data removed]",
      "text/plain": [
       "<Figure size 864x576 with 1 Axes>"
      ]
     },
     "metadata": {
      "needs_background": "light"
     },
     "output_type": "display_data"
    }
   ],
   "source": [
    "classifiers = [log_reg, model_svm, gnb]\n",
    "ax = plt.gca()\n",
    "for i in classifiers:\n",
    "    metrics.plot_roc_curve(i, X_test, y_test, ax = ax)\n",
    "    #plt.savefig('/Users/oozdal/Desktop/sdasdas.png')"
   ]
  },
  {
   "cell_type": "markdown",
   "metadata": {},
   "source": [
    "# Question 4 (Produce the merge_ranges function)\n",
    "\n",
    "Produce, in the language of your choice (Python strongly suggested), the `merge_ranges` function.\n",
    "\n",
    "> This challenge is to produce the code to merge multiple ranges of values if the ranges intersect.\n",
    "\n",
    "> The function should take a list of `DateRange`, and produces another list of `DateRange` which is the minimum representation of the input.\n",
    "\n",
    "> A `DateRange` object is simply an object with a `start`, an `end`, with `start <= end`, where `start` and `end` are `date` objects. You can implement this object however you feel is most appropriate for the task.\n",
    "\n",
    "Example:\n",
    "Assume `date1 < date2 < date3 < date4 < date5 < date6`, then\n",
    "\n",
    "+ `merge_ranges([DateRange(date1, date3), DateRange(date2, date4)]) == [DateRange(date1, date4)]`\n",
    "\n",
    "+ `merge_ranges([DateRange(date1, date3), DateRange(date2, date5), DateRange(date4, date6)]) == [DateRange(date1, date6)]`\n",
    "\n",
    "+ `merge_ranges([DateRange(date1, date2), DateRange(date3, date5), DateRange(date4, date6)]) == [DateRange(date1, date2), DateRange(date3, date6)]`"
   ]
  },
  {
   "cell_type": "code",
   "execution_count": 140,
   "metadata": {},
   "outputs": [],
   "source": [
    "def merge_ranges(DateRange1, DateRange2, DateRange3 = None):\n",
    "\n",
    "    All_DateRanges = [DateRange1, DateRange2, DateRange3]\n",
    "    Temp_Range = []\n",
    "\n",
    "    for DateRange in All_DateRanges:\n",
    "        if DateRange is not None:\n",
    "            #print(DateRange)\n",
    "            Temp_Range.append(DateRange)\n",
    "            #print(Temp_Range)\n",
    "    \n",
    "    if len(Temp_Range) == 2: joined_temp_range = [*Temp_Range[0], *Temp_Range[1]]\n",
    "    if len(Temp_Range) == 3: joined_temp_range = [*Temp_Range[0], *Temp_Range[1], *Temp_Range[2]]\n",
    "    #print(joined_temp_range)\n",
    "    \n",
    "    start_date = min(joined_temp_range)\n",
    "    final_date = max(joined_temp_range)\n",
    "    \n",
    "    Final_Range = [start_date, final_date]\n",
    "    return Final_Range"
   ]
  },
  {
   "cell_type": "markdown",
   "metadata": {},
   "source": [
    "Assume `date1 < date2 < date3 < date4 < date5 < date6`, then"
   ]
  },
  {
   "cell_type": "code",
   "execution_count": 125,
   "metadata": {},
   "outputs": [
    {
     "name": "stdout",
     "output_type": "stream",
     "text": [
      "date1: 2019-06-02 00:00:00\n",
      "date2: 2019-06-07 00:00:00\n",
      "date3: 2019-06-12 00:00:00\n",
      "date4: 2019-06-17 00:00:00\n",
      "date5: 2019-06-22 00:00:00\n",
      "date6: 2019-06-27 00:00:00\n"
     ]
    }
   ],
   "source": [
    "date1 = train[\"date\"][0]\n",
    "date2 = train[\"date\"][5]\n",
    "date3 = train[\"date\"][10]\n",
    "date4 = train[\"date\"][15]\n",
    "date5 = train[\"date\"][20]\n",
    "date6 = train[\"date\"][25]\n",
    "\n",
    "print(\"date1:\", date1)\n",
    "print(\"date2:\", date2)\n",
    "print(\"date3:\", date3)\n",
    "print(\"date4:\", date4)\n",
    "print(\"date5:\", date5)\n",
    "print(\"date6:\", date6)"
   ]
  },
  {
   "cell_type": "markdown",
   "metadata": {},
   "source": [
    "Let's check if \n",
    "+ `merge_ranges([DateRange(date1, date3), DateRange(date2, date4)]) == [DateRange(date1, date4)]`"
   ]
  },
  {
   "cell_type": "code",
   "execution_count": 135,
   "metadata": {},
   "outputs": [
    {
     "data": {
      "text/plain": [
       "[Timestamp('2019-06-02 00:00:00'), Timestamp('2019-06-17 00:00:00')]"
      ]
     },
     "execution_count": 135,
     "metadata": {},
     "output_type": "execute_result"
    }
   ],
   "source": [
    "DateRange13 = [date1, date3]\n",
    "DateRange24 = [date2, date4]\n",
    "DateRange14 = [date1, date4]\n",
    "\n",
    "merge_ranges(list1, list2)"
   ]
  },
  {
   "cell_type": "code",
   "execution_count": 136,
   "metadata": {},
   "outputs": [
    {
     "data": {
      "text/plain": [
       "True"
      ]
     },
     "execution_count": 136,
     "metadata": {},
     "output_type": "execute_result"
    }
   ],
   "source": [
    "merge_ranges(list1, list2) == DateRange14"
   ]
  },
  {
   "cell_type": "markdown",
   "metadata": {},
   "source": [
    "Let's check if\n",
    "+ `merge_ranges([DateRange(date1, date3), DateRange(date2, date5), DateRange(date4, date6)]) == [DateRange(date1, date6)]`"
   ]
  },
  {
   "cell_type": "code",
   "execution_count": 131,
   "metadata": {},
   "outputs": [
    {
     "data": {
      "text/plain": [
       "[Timestamp('2019-06-02 00:00:00'), Timestamp('2019-06-27 00:00:00')]"
      ]
     },
     "execution_count": 131,
     "metadata": {},
     "output_type": "execute_result"
    }
   ],
   "source": [
    "DateRange13 = [date1, date3]\n",
    "DateRange25 = [date2, date5]\n",
    "DateRange36 = [date4, date6]\n",
    "DateRange16 = [date1, date6]\n",
    "\n",
    "merge_ranges(DateRange13, DateRange25, DateRange36)"
   ]
  },
  {
   "cell_type": "code",
   "execution_count": 132,
   "metadata": {},
   "outputs": [
    {
     "data": {
      "text/plain": [
       "True"
      ]
     },
     "execution_count": 132,
     "metadata": {},
     "output_type": "execute_result"
    }
   ],
   "source": [
    "merge_ranges(DateRange13, DateRange25, DateRange36) == DateRange16"
   ]
  },
  {
   "cell_type": "markdown",
   "metadata": {},
   "source": [
    "Let's check if\n",
    "+ `merge_ranges([DateRange(date1, date2), DateRange(date3, date5), DateRange(date4, date6)]) == [DateRange(date1, date2), DateRange(date3, date6)]`"
   ]
  },
  {
   "cell_type": "code",
   "execution_count": 128,
   "metadata": {},
   "outputs": [
    {
     "data": {
      "text/plain": [
       "[Timestamp('2019-06-02 00:00:00'), Timestamp('2019-06-27 00:00:00')]"
      ]
     },
     "execution_count": 128,
     "metadata": {},
     "output_type": "execute_result"
    }
   ],
   "source": [
    "DateRange12 = [date1, date2]\n",
    "DateRange35 = [date3, date5]\n",
    "DateRange46 = [date4, date6]\n",
    "DateRange36 = [date3, date6]\n",
    "\n",
    "merge_ranges(DateRange12, DateRange35, DateRange46)"
   ]
  },
  {
   "cell_type": "code",
   "execution_count": 129,
   "metadata": {},
   "outputs": [
    {
     "data": {
      "text/plain": [
       "True"
      ]
     },
     "execution_count": 129,
     "metadata": {},
     "output_type": "execute_result"
    }
   ],
   "source": [
    "merge_ranges(DateRange12, DateRange35, DateRange46) == merge_ranges(DateRange12, DateRange36)"
   ]
  },
  {
   "cell_type": "code",
   "execution_count": null,
   "metadata": {},
   "outputs": [],
   "source": []
  }
 ],
 "metadata": {
  "kernelspec": {
   "display_name": "Python 3",
   "language": "python",
   "name": "python3"
  },
  "language_info": {
   "codemirror_mode": {
    "name": "ipython",
    "version": 3
   },
   "file_extension": ".py",
   "mimetype": "text/x-python",
   "name": "python",
   "nbconvert_exporter": "python",
   "pygments_lexer": "ipython3",
   "version": "3.8.3"
  }
 },
 "nbformat": 4,
 "nbformat_minor": 4
}
