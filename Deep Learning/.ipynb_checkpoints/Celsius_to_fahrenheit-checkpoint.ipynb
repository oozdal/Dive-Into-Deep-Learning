{
 "cells": [
  {
   "cell_type": "markdown",
   "id": "8fef7287-b41c-4344-8f90-e378e9618ab3",
   "metadata": {},
   "source": [
    "The problem we will solve is to convert from Celsius to Fahrenheit, where the approximate formula is:\n",
    "\n",
    "$$ f = c \\times 1.8 + 32 $$\n",
    "\n",
    "Of course, it would be simple enough to create a conventional Python function that directly performs this calculation, but that wouldn't be machine learning.\n",
    "\n",
    "Instead, we will give TensorFlow some sample Celsius values (0, 8, 15, 22, 38) and their corresponding Fahrenheit values (32, 46, 59, 72, 100).\n",
    "Then, we will train a model that figures out the above formula through the training process."
   ]
  },
  {
   "cell_type": "code",
   "execution_count": 32,
   "id": "6bd0abab-40ca-45b5-bdf6-2684aac4e8b2",
   "metadata": {},
   "outputs": [],
   "source": [
    "# First, import TensorFlow. \n",
    "import tensorflow as tf\n",
    "import numpy as np"
   ]
  },
  {
   "cell_type": "markdown",
   "id": "c40c01c2-abb8-41d9-bdb5-20d79b265989",
   "metadata": {},
   "source": [
    "## Set up training data\n",
    "\n",
    "Since the task is to create a model that can give the temperature in Fahrenheit when given the degrees in Celsius, \n",
    "we create two lists `celsius_q` and `fahrenheit_a` that we can use to train our model."
   ]
  },
  {
   "cell_type": "code",
   "execution_count": 33,
   "id": "d7883abf-253d-4fc8-8d1c-3707efc861ac",
   "metadata": {},
   "outputs": [
    {
     "name": "stdout",
     "output_type": "stream",
     "text": [
      "-40.0 degrees Celsius = -40.0 degrees Fahrenheit\n",
      "-10.0 degrees Celsius = 14.0 degrees Fahrenheit\n",
      "0.0 degrees Celsius = 32.0 degrees Fahrenheit\n",
      "8.0 degrees Celsius = 46.0 degrees Fahrenheit\n",
      "15.0 degrees Celsius = 59.0 degrees Fahrenheit\n",
      "22.0 degrees Celsius = 72.0 degrees Fahrenheit\n",
      "38.0 degrees Celsius = 100.0 degrees Fahrenheit\n"
     ]
    }
   ],
   "source": [
    "celsius_q    = np.array([-40, -10,  0,  8, 15, 22,  38],  dtype=float)\n",
    "fahrenheit_a = np.array([-40,  14, 32, 46, 59, 72, 100],  dtype=float)\n",
    "\n",
    "for i,c in enumerate(celsius_q):\n",
    "  print(\"{} degrees Celsius = {} degrees Fahrenheit\".format(c, fahrenheit_a[i]))"
   ]
  },
  {
   "cell_type": "markdown",
   "id": "8b3befab-2d6b-4397-8267-a70bf1c2991e",
   "metadata": {},
   "source": [
    "## Create the model\n",
    "\n",
    "Since the problem is straightforward, this network will require only a single layer, with a single neuron.\n",
    "\n",
    "### Build a layer\n",
    "\n",
    "We'll call the layer `l0` and create it by instantiating `tf.keras.layers.Dense` with the following configuration:\n",
    "\n",
    "*   `input_shape=[1]` — This specifies that the input to this layer is a single value. That is, the shape is a one-dimensional array with one member. Since this is the first (and only) layer, that input shape is the input shape of the entire model. The single value is a floating point number, representing degrees Celsius.\n",
    "\n",
    "*   `units=1` — This specifies the number of neurons in the layer. The number of neurons defines how many internal variables the layer has to try to learn how to solve the problem (more later). Since this is the final layer, it is also the size of the model's output — a single float value representing degrees Fahrenheit. (In a multi-layered network, the size and shape of the layer would need to match the `input_shape` of the next layer.)"
   ]
  },
  {
   "cell_type": "code",
   "execution_count": 34,
   "id": "77f8ed82-26bf-429a-aeef-16763c506636",
   "metadata": {},
   "outputs": [],
   "source": [
    "l0 = tf.keras.layers.Dense(units=1, input_shape=[1])"
   ]
  },
  {
   "cell_type": "markdown",
   "id": "3dcbe6d2-d40c-45d2-b353-8faf6de9241c",
   "metadata": {},
   "source": [
    "### Assemble layers into the model\n",
    "\n",
    "Once layers are defined, they need to be assembled into a model. The Sequential model definition takes a list of layers as an argument, specifying the calculation order from the input to the output.\n",
    "\n",
    "This model has just a single layer, l0."
   ]
  },
  {
   "cell_type": "code",
   "execution_count": 35,
   "id": "30c68e50-0ff3-4bc5-927c-80acea52038c",
   "metadata": {},
   "outputs": [],
   "source": [
    "model = tf.keras.Sequential([l0])"
   ]
  },
  {
   "cell_type": "markdown",
   "id": "038a7bce-19d2-492e-80cb-752a571c67d2",
   "metadata": {},
   "source": [
    "## Compile the model, with loss and optimizer functions\n",
    "\n",
    "Before training, the model has to be compiled. When compiled for training, the model is given:\n",
    "\n",
    "- **Loss function** — A way of measuring how far off predictions are from the desired outcome. (The measured difference is called the \"loss\".)\n",
    "\n",
    "- **Optimizer function** — A way of adjusting internal values in order to reduce the loss."
   ]
  },
  {
   "cell_type": "code",
   "execution_count": 36,
   "id": "fb283e9c-af36-438d-b59c-e222b09741fb",
   "metadata": {},
   "outputs": [],
   "source": [
    "model.compile(loss='mean_squared_error',\n",
    "              optimizer=tf.keras.optimizers.Adam(0.1))"
   ]
  },
  {
   "cell_type": "markdown",
   "id": "fb855b42-0750-47ea-91f3-a13f63d60cf2",
   "metadata": {},
   "source": [
    "## Train the model\n",
    "\n",
    "Train the model by calling the `fit` method."
   ]
  },
  {
   "cell_type": "code",
   "execution_count": 37,
   "id": "37c799c4-5b39-4430-b482-3810713445d0",
   "metadata": {},
   "outputs": [
    {
     "name": "stdout",
     "output_type": "stream",
     "text": [
      "Finished training the model\n"
     ]
    }
   ],
   "source": [
    "history = model.fit(celsius_q, fahrenheit_a, epochs=500, verbose=False)\n",
    "print(\"Finished training the model\")"
   ]
  },
  {
   "cell_type": "markdown",
   "id": "e4fa90a9-e188-4d77-a4ca-3b8100e8091b",
   "metadata": {},
   "source": [
    "## Display training statistics\n",
    "\n",
    "The `fit` method returns a history object. We can use this object to plot how the loss of our model goes down after each training epoch. A high loss means that the Fahrenheit degrees the model predicts is far from the corresponding value in `fahrenheit_a`."
   ]
  },
  {
   "cell_type": "code",
   "execution_count": 48,
   "id": "9fdb3646-8f63-47bd-a972-766bd3daa494",
   "metadata": {},
   "outputs": [
    {
     "data": {
      "text/plain": [
       "[<matplotlib.lines.Line2D at 0x7fb0e9999d60>]"
      ]
     },
     "execution_count": 48,
     "metadata": {},
     "output_type": "execute_result"
    },
    {
     "data": {
      "image/png": "[encoded data removed]",
      "text/plain": [
       "<Figure size 432x288 with 1 Axes>"
      ]
     },
     "metadata": {
      "needs_background": "light"
     },
     "output_type": "display_data"
    }
   ],
   "source": [
    "import matplotlib.pyplot as plt\n",
    "plt.xlabel('Epoch Number')\n",
    "plt.ylabel(\"Loss Magnitude\")\n",
    "plt.plot(history.history['loss'])"
   ]
  },
  {
   "cell_type": "markdown",
   "id": "12e26240-d958-4d4d-b07f-c050dd69cade",
   "metadata": {},
   "source": [
    "## Use the model to predict values"
   ]
  },
  {
   "cell_type": "code",
   "execution_count": 39,
   "id": "29b86bf1-8993-4ecf-81de-ed7f36808ef8",
   "metadata": {},
   "outputs": [
    {
     "name": "stdout",
     "output_type": "stream",
     "text": [
      "[[211.33286]]\n"
     ]
    }
   ],
   "source": [
    "print(model.predict([100.0]))"
   ]
  },
  {
   "cell_type": "markdown",
   "id": "8aa8cfd1-1532-4f2a-941b-75c8d57cf77d",
   "metadata": {},
   "source": [
    "The correct answer is $100 \\times 1.8 + 32 = 212$, so our model is doing really well."
   ]
  },
  {
   "cell_type": "markdown",
   "id": "ead47824-1a37-4c08-85a8-80f76bfa7cd3",
   "metadata": {},
   "source": [
    "## Looking at the layer weights"
   ]
  },
  {
   "cell_type": "code",
   "execution_count": 40,
   "id": "5a2f110b-0152-4ba3-8c3a-743ea39fafeb",
   "metadata": {},
   "outputs": [
    {
     "name": "stdout",
     "output_type": "stream",
     "text": [
      "These are the layer variables: [array([[1.8213243]], dtype=float32), array([29.200422], dtype=float32)]\n"
     ]
    }
   ],
   "source": [
    "print(\"These are the layer variables: {}\".format(l0.get_weights()))"
   ]
  },
  {
   "cell_type": "markdown",
   "id": "383d2aa4-68a0-4c37-8fa5-0fce52605732",
   "metadata": {},
   "source": [
    "The first variable is close to ~1.8 and the second to ~32. These values (1.8 and 32) are the actual variables in the real conversion formula.\n",
    "\n",
    "This is really close to the values in the conversion formula, $f = 1.8c + 32$."
   ]
  },
  {
   "cell_type": "markdown",
   "id": "8dd86d55-ec67-4f10-831d-9bdaf2ca4639",
   "metadata": {},
   "source": [
    "# What if we created more Dense layers with different units ?"
   ]
  },
  {
   "cell_type": "code",
   "execution_count": 42,
   "id": "fce1e45e-ccff-466c-9eae-6dc099e23efb",
   "metadata": {},
   "outputs": [
    {
     "name": "stdout",
     "output_type": "stream",
     "text": [
      "Finished training the model\n",
      "[[211.74744]]\n",
      "Model predicts that 100 degrees Celsius is: [[211.74744]] degrees Fahrenheit\n",
      "These are the l0 variables: [array([[-0.43954483, -0.3359355 ,  0.296412  ,  0.09140253]],\n",
      "      dtype=float32), array([-3.2018628, -3.136723 ,  3.1519647, -2.4043603], dtype=float32)]\n",
      "These are the l1 variables: [array([[-0.12471249, -1.0199908 ,  0.8289539 ,  0.02073246],\n",
      "       [ 0.4101755 , -0.75741816,  0.4892975 , -0.9788168 ],\n",
      "       [-0.70525473,  0.71954334, -0.33153743,  0.7934335 ],\n",
      "       [-0.2803155 , -0.30839208,  1.0003242 , -0.12819003]],\n",
      "      dtype=float32), array([-3.08404  ,  3.201418 , -3.1136026,  2.4603379], dtype=float32)]\n",
      "These are the l2 variables: [array([[-0.40000254],\n",
      "       [ 0.93238986],\n",
      "       [-1.1091962 ],\n",
      "       [ 0.4584069 ]], dtype=float32), array([2.9737604], dtype=float32)]\n"
     ]
    }
   ],
   "source": [
    "l0 = tf.keras.layers.Dense(units=4, input_shape=[1])\n",
    "l1 = tf.keras.layers.Dense(units=4)\n",
    "l2 = tf.keras.layers.Dense(units=1)\n",
    "model = tf.keras.Sequential([l0, l1, l2])\n",
    "model.compile(loss='mean_squared_error', optimizer=tf.keras.optimizers.Adam(0.1))\n",
    "model.fit(celsius_q, fahrenheit_a, epochs=500, verbose=False)\n",
    "print(\"Finished training the model\")\n",
    "print(model.predict([100.0]))\n",
    "print(\"Model predicts that 100 degrees Celsius is: {} degrees Fahrenheit\".format(model.predict([100.0])))\n",
    "print(\"These are the l0 variables: {}\".format(l0.get_weights()))\n",
    "print(\"These are the l1 variables: {}\".format(l1.get_weights()))\n",
    "print(\"These are the l2 variables: {}\".format(l2.get_weights()))"
   ]
  },
  {
   "cell_type": "markdown",
   "id": "92df3f5c-4c80-45a4-8d6f-33408c79f4ae",
   "metadata": {},
   "source": [
    "This model is also able to predict the corresponding Fahrenheit value really well. But when you look at the variables (weights) in the `l0` and `l1` layers, they are nothing even close to ~1.8 and ~32. The added complexity hides the \"simple\" form of the conversion equation."
   ]
  },
  {
   "cell_type": "code",
   "execution_count": null,
   "id": "65935623-356d-4e19-af87-ea3a852e2a87",
   "metadata": {},
   "outputs": [],
   "source": []
  }
 ],
 "metadata": {
  "kernelspec": {
   "display_name": "Python 3",
   "language": "python",
   "name": "python3"
  },
  "language_info": {
   "codemirror_mode": {
    "name": "ipython",
    "version": 3
   },
   "file_extension": ".py",
   "mimetype": "text/x-python",
   "name": "python",
   "nbconvert_exporter": "python",
   "pygments_lexer": "ipython3",
   "version": "3.8.8"
  }
 },
 "nbformat": 4,
 "nbformat_minor": 5
}
